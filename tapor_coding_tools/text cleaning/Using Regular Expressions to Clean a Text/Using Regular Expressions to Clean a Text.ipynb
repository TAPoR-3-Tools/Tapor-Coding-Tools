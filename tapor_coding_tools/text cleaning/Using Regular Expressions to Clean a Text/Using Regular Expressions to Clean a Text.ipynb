{
 "cells": [
  {
   "cell_type": "markdown",
   "metadata": {},
   "source": [
    "# Using Regular Expressions to Clean a Text\n",
    "\n",
    "In this notebook we will be using regular expressions to clean up a text document. The text we will be using is Alice's Adventures in Wonderland by Lewis Carroll. The document was retrieved from https://www.gutenberg.org/\n",
    "\n",
    "Regular Expressions (or Regex) is a coding technique that functions in many programming languages. Regex makes use of metacharacters (!?^.) and literal strings to carry out its operations. For a full list of Regex metacharacters and their associated functions, please see the Regex cheatsheet: http://www.rexegg.com/regex-quickstart.html\n",
    "\n",
    "## Libraries and Resources used\n",
    "\n",
    "-  Python 3\n",
    "-  re\n",
    "\n",
    "## Note:\n",
    "\n",
    "The document has already undergone some cleaning. This involved removing the additional notes made by Gutenberg (trademarks, notes about the book, branding) from the start and end of the novel.\n",
    "\n",
    "Written February 14, 2018"
   ]
  },
  {
   "cell_type": "code",
   "execution_count": 226,
   "metadata": {
    "collapsed": true
   },
   "outputs": [],
   "source": [
    "# Import the required library\n",
    "import re"
   ]
  },
  {
   "cell_type": "markdown",
   "metadata": {},
   "source": [
    "## Load and Read In the Text File\n",
    "\n",
    "We first need to load the Alice In Wonderland text file to begin the Regex cleaning process. "
   ]
  },
  {
   "cell_type": "code",
   "execution_count": 227,
   "metadata": {},
   "outputs": [
    {
     "name": "stdout",
     "output_type": "stream",
     "text": [
      "CHAPTER I\n",
      "\n",
      "\n",
      "[Sidenote: _Down the Rabbit-Hole_]\n",
      "\n",
      "ALICE was beginning to get very tired of sitting by her\n",
      "sister on the bank, and of having nothing to do: once or twice she had\n",
      "peeped into the book her sister was reading, but it had no pictures or\n",
      "conversations in it, \"and what is the use of a book,\" thought Alice,\n",
      "\"without pictures or conversations?\"\n",
      "\n",
      "So she was considering in her own mind (as well as she could, for the\n",
      "hot day made her feel very sleepy and stupid) whether the pleasure of\n",
      "making \n"
     ]
    }
   ],
   "source": [
    "# Read in the text file\n",
    "Alice = open(\"Alice_in_Wonderland.txt\").read()\n",
    "\n",
    "#Print out the first 500 characters to confirm the text has been imported\n",
    "print (Alice[:500])"
   ]
  },
  {
   "cell_type": "markdown",
   "metadata": {},
   "source": [
    "## Eliminate Whitespace\n",
    "\n",
    "By examining the first 500 characters, there are obviously some unnecessary lines and spaces. This 'whitespace' can be eliminated with a couple of lines of Regex."
   ]
  },
  {
   "cell_type": "code",
   "execution_count": 228,
   "metadata": {},
   "outputs": [
    {
     "name": "stdout",
     "output_type": "stream",
     "text": [
      "CHAPTER I   [Sidenote: _Down the Rabbit-Hole_]  ALICE was beginning to get very tired of sitting by her sister on the bank, and of having nothing to do: once or twice she had peeped into the book her sister was reading, but it had no pictures or conversations in it, \"and what is the use of a book,\" thought Alice, \"without pictures or conversations?\"  So she was considering in her own mind (as well as she could, for the hot day made her feel very sleepy and stupid) whether the pleasure of making \n"
     ]
    }
   ],
   "source": [
    "# Eliminate new line characters with re.sub\n",
    "# This function works by substituting the new line character with a space\n",
    "Alice = re.sub(r'\\n', \" \", Alice)\n",
    "\n",
    "# Check the altered text\n",
    "print (Alice[:500])"
   ]
  },
  {
   "cell_type": "code",
   "execution_count": 229,
   "metadata": {},
   "outputs": [
    {
     "name": "stdout",
     "output_type": "stream",
     "text": [
      "CHAPTER I [Sidenote: _Down the Rabbit-Hole_] ALICE was beginning to get very tired of sitting by her sister on the bank, and of having nothing to do: once or twice she had peeped into the book her sister was reading, but it had no pictures or conversations in it, \"and what is the use of a book,\" thought Alice, \"without pictures or conversations?\" So she was considering in her own mind (as well as she could, for the hot day made her feel very sleepy and stupid) whether the pleasure of making a da\n"
     ]
    }
   ],
   "source": [
    "# Remove all occurences of 2 or more spaces\n",
    "# To grab counts of characters in a text you can use numbers in curly brackets\n",
    "Alice = re.sub(r'\\s{2,}', \" \", Alice)\n",
    "\n",
    "# Check the altered text\n",
    "print (Alice[:500])"
   ]
  },
  {
   "cell_type": "markdown",
   "metadata": {},
   "source": [
    "## Isolating Dialogue\n",
    "\n",
    "On its own, Regex is capable of some interesting text analysis techniques. By providing the correct combination of metacharacters and literal strings, we can pull certain parts out of a text. We do this with the re.findall function. "
   ]
  },
  {
   "cell_type": "code",
   "execution_count": 230,
   "metadata": {},
   "outputs": [
    {
     "name": "stdout",
     "output_type": "stream",
     "text": [
      "['\"and what is the use of a book,\"', '\"without pictures or conversations?\"', '\"Oh dear! Oh dear! I shall be too late!\"', '\"ORANGE MARMALADE,\"', '\"Well!\"']\n"
     ]
    }
   ],
   "source": [
    "# This may look strange, but the metacharacters are grabbing any character between quoation marks zero or more times\n",
    "# This returns the dialogue of the book as a list\n",
    "AliceDialogue = re.findall(r'\".*?\"', Alice)\n",
    "\n",
    "# Check the first 5 results\n",
    "print (AliceDialogue[:5])"
   ]
  },
  {
   "cell_type": "markdown",
   "metadata": {},
   "source": [
    "## Removing Punctuation \n",
    "\n",
    "There are a number of problematic characters still in the text. Additionaly, we want to create a version of the text that is free of punctuation so that we may analyze it later. \n",
    "\n",
    "Regex metacharacters are often found in text documents. To keep our code from failing we must always escape the Regex metacharacters with a backslash \\. The backslash can also be used to turn literal string characters into Character Classes. These Character Classes can make changes to multiple characters, as will be shown below. "
   ]
  },
  {
   "cell_type": "code",
   "execution_count": 231,
   "metadata": {},
   "outputs": [
    {
     "name": "stdout",
     "output_type": "stream",
     "text": [
      "CHAPTER I Sidenote _Down the Rabbit Hole_ ALICE was beginning to get very tired of sitting by her sister on the bank and of having nothing to do once or twice she had peeped into the book her sister was reading but it had no pictures or conversations in it and what is the use of a book thought Alice without pictures or conversations So she was considering in her own mind as well as she could for the hot day made her feel very sleepy and stupid whether the pleasure of making a daisy chain would b\n"
     ]
    }
   ],
   "source": [
    "# Note: We use the Alice variable that is not split into dialogue\n",
    "# Remove all non-word characters\n",
    "AliceClean = re.sub(r'\\W+', \" \", Alice)\n",
    "\n",
    "# Check the altered text\n",
    "print (AliceClean[:500])"
   ]
  },
  {
   "cell_type": "markdown",
   "metadata": {},
   "source": [
    "### NOTE:\n",
    "Above, you may notice that the underscore _ was not removed by the code. This is because the underscore character is considered to be a word character in Regex. To account for this, we need to add an additional line of code specifying the substitution of the underscore."
   ]
  },
  {
   "cell_type": "code",
   "execution_count": 232,
   "metadata": {},
   "outputs": [
    {
     "name": "stdout",
     "output_type": "stream",
     "text": [
      "CHAPTER I Sidenote  Down the Rabbit Hole  ALICE was beginning to get very tired of sitting by her sister on the bank and of having nothing to do once or twice she had peeped into the book her sister was reading but it had no pictures or conversations in it and what is the use of a book thought Alice without pictures or conversations So she was considering in her own mind as well as she could for the hot day made her feel very sleepy and stupid whether the pleasure of making a daisy chain would b\n"
     ]
    }
   ],
   "source": [
    "# Remove all non-word characters\n",
    "AliceClean = re.sub(r'_', \" \", AliceClean)\n",
    "\n",
    "# Check the altered text\n",
    "print (AliceClean[:500])"
   ]
  },
  {
   "cell_type": "markdown",
   "metadata": {},
   "source": [
    "## Split on Sentences\n",
    "\n",
    "For some analysis methods you may want a list of the text's sentences. This can be done easily enough with Regex."
   ]
  },
  {
   "cell_type": "code",
   "execution_count": 233,
   "metadata": {},
   "outputs": [
    {
     "name": "stdout",
     "output_type": "stream",
     "text": [
      "['CHAPTER I [Sidenote: _Down the Rabbit-Hole_] ALICE was beginning to get very tired of sitting by her sister on the bank, and of having nothing to do: once or twice she had peeped into the book her sister was reading, but it had no pictures or conversations in it, \"and what is the use of a book,\" thought Alice, \"without pictures or conversations', '\" So she was considering in her own mind (as well as she could, for the hot day made her feel very sleepy and stupid) whether the pleasure of making a daisy-chain would be worth the trouble of getting up and picking the daisies, when suddenly a White Rabbit with pink eyes ran close by her', ' There was nothing so _very_ remarkable in that; nor did Alice think it so _very_ much out of the way to hear the Rabbit say to itself, \"Oh dear', ' Oh dear', ' I shall be too late']\n"
     ]
    }
   ],
   "source": [
    "# Note: We use the Alice variable that still contains the non-word characters\n",
    "# Use re.split to split the text on common sentence ending characters\n",
    "# Placing the characters in square brackets [] creates a \"class\"\n",
    "AliceSentence = re.split(r'[!?.]', Alice)\n",
    "\n",
    "# Check the results by printing the first 10 sentences\n",
    "print(AliceSentence[:5])"
   ]
  },
  {
   "cell_type": "markdown",
   "metadata": {},
   "source": [
    "## Conclusion\n",
    "\n",
    "As you can see, Regex is a versatile way to clean and slice text. It's strength lies in its succint code and similar expression across most programming languages. Regex is a good technique to use to clean up the document before a more thorough textual analysis. Don't forget to familiarize yourself with the metacharacters on the cheat sheet!"
   ]
  }
 ],
 "metadata": {
  "kernelspec": {
   "display_name": "Python 3",
   "language": "python",
   "name": "python3"
  },
  "language_info": {
   "codemirror_mode": {
    "name": "ipython",
    "version": 3
   },
   "file_extension": ".py",
   "mimetype": "text/x-python",
   "name": "python",
   "nbconvert_exporter": "python",
   "pygments_lexer": "ipython3",
   "version": "3.6.3"
  }
 },
 "nbformat": 4,
 "nbformat_minor": 2
}

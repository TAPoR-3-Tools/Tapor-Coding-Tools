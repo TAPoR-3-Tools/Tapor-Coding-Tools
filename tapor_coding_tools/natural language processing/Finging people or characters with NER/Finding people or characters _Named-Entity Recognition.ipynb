{
 "cells": [
  {
   "cell_type": "markdown",
   "metadata": {},
   "source": [
    "### Named Entity Recognition (Person) Using NLTK\n",
    "\n",
    "Using NLTK library to extract names from a text file."
   ]
  },
  {
   "cell_type": "markdown",
   "metadata": {},
   "source": [
    "#### Open text file and store content into variable text"
   ]
  },
  {
   "cell_type": "code",
   "execution_count": 1,
   "metadata": {},
   "outputs": [
    {
     "name": "stdout",
     "output_type": "stream",
     "text": [
      "Eisenstein was born to a middle-class family in Riga, Latvia (then part of the Russian Empire in the Governorate of Livonia), but his family moved frequently in his early years, as Eisenstein continued to do throughout his life. His father, Mikhail Osipovich Eisenstein, was born to a German Jewish father who had converted to Christianity, Osip Eisenstein, and a mother of Swedish descent. His mother, Julia Ivanovna Konetskaya, was from a Russian Orthodox family. According to other sources, both of his paternal grandparents were of Baltic German descent. His father was an architect and his mother was the daughter of a prosperous merchant. Julia left Riga the same year as the Russian Revolution of 1905, taking Sergei with her to St. Petersburg. Her son would return at times to see his father, who joined them around 1910. Divorce followed and Julia left the family to live in France. Eisenstein was raised as an Orthodox Christian, but became an atheist later on.\n"
     ]
    }
   ],
   "source": [
    "with open(\"NE.txt\") as file:\n",
    "    text = file.read()\n",
    "\n",
    "print(text[:1000])  # show atmost 1000 characters from the beginning of the file"
   ]
  },
  {
   "cell_type": "markdown",
   "metadata": {},
   "source": [
    "### Steps\n",
    "- Import nltk library\n",
    "- Split the text into sentences using a sentence segmenter `nltk.sent_tokenize` \n",
    "- Further subdivide each sentence into words using a word tokenizer `nltk.word_tokenize`\n",
    "- Tag words with part-of-speech tags using `nltk.pos_tag`, which will prove very helpful in the next step, Named Entity Recognition.\n",
    "- We then chunk the tagged words using `nltk.ne_chunk`. Chunking aims at grouping elements of the sequence, without any differentiation between obtained groups. For example, noun phrase chunking or verb group chunking.\n",
    "- After chunking, named entities will be labeled as \"PERSON\" if the chunk is a person name."
   ]
  },
  {
   "cell_type": "code",
   "execution_count": 2,
   "metadata": {},
   "outputs": [
    {
     "name": "stdout",
     "output_type": "stream",
     "text": [
      "[ 'Eisenstein',\n",
      "  'Eisenstein',\n",
      "  'Mikhail Osipovich Eisenstein',\n",
      "  'Osip Eisenstein',\n",
      "  'Julia Ivanovna Konetskaya',\n",
      "  'Julia',\n",
      "  'Sergei',\n",
      "  'Divorce',\n",
      "  'Julia',\n",
      "  'Eisenstein']\n"
     ]
    }
   ],
   "source": [
    "import nltk\n",
    "from pprint import pprint  # pretty print structured data\n",
    "\n",
    "# initialize an empty list to store person names\n",
    "person_names = []\n",
    "\n",
    "# tokenize sentences\n",
    "for sentence in nltk.sent_tokenize(text):\n",
    "    # tokenize words in each sentence\n",
    "    word_tokens = nltk.word_tokenize(sentence)\n",
    "    # words tagged with part-of-speech tags\n",
    "    tagged_words = nltk.pos_tag(word_tokens)\n",
    "    # then chunk the related words\n",
    "    for chunk in nltk.ne_chunk(tagged_words):\n",
    "        if hasattr(chunk, 'label') and chunk.label() == 'PERSON':\n",
    "            name = ' '.join(leave[0] for leave in chunk.leaves())\n",
    "            person_names.append(name)\n",
    "\n",
    "pprint(person_names, indent=2)"
   ]
  },
  {
   "cell_type": "markdown",
   "metadata": {},
   "source": [
    "### Remove duplicates while maintaining order they appear in the text"
   ]
  },
  {
   "cell_type": "code",
   "execution_count": 3,
   "metadata": {},
   "outputs": [
    {
     "data": {
      "text/plain": [
       "['Eisenstein',\n",
       " 'Mikhail Osipovich Eisenstein',\n",
       " 'Osip Eisenstein',\n",
       " 'Julia Ivanovna Konetskaya',\n",
       " 'Julia',\n",
       " 'Sergei',\n",
       " 'Divorce']"
      ]
     },
     "execution_count": 3,
     "metadata": {},
     "output_type": "execute_result"
    }
   ],
   "source": [
    "from collections import OrderedDict\n",
    "list(OrderedDict.fromkeys(person_names))"
   ]
  },
  {
   "cell_type": "code",
   "execution_count": null,
   "metadata": {
    "collapsed": true
   },
   "outputs": [],
   "source": []
  }
 ],
 "metadata": {
  "kernelspec": {
   "display_name": "Python 3",
   "language": "python",
   "name": "python3"
  },
  "language_info": {
   "codemirror_mode": {
    "name": "ipython",
    "version": 3
   },
   "file_extension": ".py",
   "mimetype": "text/x-python",
   "name": "python",
   "nbconvert_exporter": "python",
   "pygments_lexer": "ipython3",
   "version": "3.6.1"
  }
 },
 "nbformat": 4,
 "nbformat_minor": 2
}

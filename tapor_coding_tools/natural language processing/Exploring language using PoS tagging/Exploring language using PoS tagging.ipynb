{
 "cells": [
  {
   "cell_type": "markdown",
   "metadata": {},
   "source": [
    "### PoS tagging\n",
    "The process of classifying words into their parts of speech and labeling them accordingly is known as part-of-speech tagging, POS-tagging, or simply tagging. Parts of speech are also known as word classes or lexical categories. \n",
    "\n",
    "The following code shows how to tagging text automatically using NLTK. "
   ]
  },
  {
   "cell_type": "code",
   "execution_count": 2,
   "metadata": {},
   "outputs": [
    {
     "name": "stdout",
     "output_type": "stream",
     "text": [
      "Eisenstein was born to a middle-class family in Riga, Latvia (then part of the Russian Empire in the Governorate of Livonia), but his family moved frequently in his early years, as Eisenstein continued to do throughout his life. His father, Mikhail Osipovich Eisenstein, was born to a German Jewish father who had converted to Christianity, Osip Eisenstein, and a mother of Swedish descent. His mother, Julia Ivanovna Konetskaya, was from a Russian Orthodox family. According to other sources, both of his paternal grandparents were of Baltic German descent. His father was an architect and his mother was the daughter of a prosperous merchant. Julia left Riga the same year as the Russian Revolution of 1905, taking Sergei with her to St. Petersburg. Her son would return at times to see his father, who joined them around 1910. Divorce followed and Julia left the family to live in France. Eisenstein was raised as an Orthodox Christian, but became an atheist later on.\n"
     ]
    }
   ],
   "source": [
    "# import text\n",
    "f = open('NE.txt','r')\n",
    "text = f.read()\n",
    "print (text)"
   ]
  },
  {
   "cell_type": "code",
   "execution_count": 7,
   "metadata": {},
   "outputs": [
    {
     "name": "stdout",
     "output_type": "stream",
     "text": [
      "[[('Eisenstein', 'NNP'), ('was', 'VBD'), ('born', 'VBN'), ('to', 'TO'), ('a', 'DT'), ('middle-class', 'JJ'), ('family', 'NN'), ('in', 'IN'), ('Riga', 'NNP'), (',', ','), ('Latvia', 'NNP'), ('(', '('), ('then', 'RB'), ('part', 'NN'), ('of', 'IN'), ('the', 'DT'), ('Russian', 'NNP'), ('Empire', 'NNP'), ('in', 'IN'), ('the', 'DT'), ('Governorate', 'NNP'), ('of', 'IN'), ('Livonia', 'NNP'), (')', ')'), (',', ','), ('but', 'CC'), ('his', 'PRP$'), ('family', 'NN'), ('moved', 'VBD'), ('frequently', 'RB'), ('in', 'IN'), ('his', 'PRP$'), ('early', 'JJ'), ('years', 'NNS'), (',', ','), ('as', 'IN'), ('Eisenstein', 'NNP'), ('continued', 'VBD'), ('to', 'TO'), ('do', 'VB'), ('throughout', 'IN'), ('his', 'PRP$'), ('life', 'NN'), ('.', '.')], [('His', 'PRP$'), ('father', 'NN'), (',', ','), ('Mikhail', 'NNP'), ('Osipovich', 'NNP'), ('Eisenstein', 'NNP'), (',', ','), ('was', 'VBD'), ('born', 'VBN'), ('to', 'TO'), ('a', 'DT'), ('German', 'JJ'), ('Jewish', 'JJ'), ('father', 'NN'), ('who', 'WP'), ('had', 'VBD'), ('converted', 'VBN'), ('to', 'TO'), ('Christianity', 'NNP'), (',', ','), ('Osip', 'NNP'), ('Eisenstein', 'NNP'), (',', ','), ('and', 'CC'), ('a', 'DT'), ('mother', 'NN'), ('of', 'IN'), ('Swedish', 'JJ'), ('descent', 'NN'), ('.', '.')], [('His', 'PRP$'), ('mother', 'NN'), (',', ','), ('Julia', 'NNP'), ('Ivanovna', 'NNP'), ('Konetskaya', 'NNP'), (',', ','), ('was', 'VBD'), ('from', 'IN'), ('a', 'DT'), ('Russian', 'JJ'), ('Orthodox', 'NNP'), ('family', 'NN'), ('.', '.')], [('According', 'VBG'), ('to', 'TO'), ('other', 'JJ'), ('sources', 'NNS'), (',', ','), ('both', 'DT'), ('of', 'IN'), ('his', 'PRP$'), ('paternal', 'JJ'), ('grandparents', 'NNS'), ('were', 'VBD'), ('of', 'IN'), ('Baltic', 'JJ'), ('German', 'JJ'), ('descent', 'NN'), ('.', '.')], [('His', 'PRP$'), ('father', 'NN'), ('was', 'VBD'), ('an', 'DT'), ('architect', 'NN'), ('and', 'CC'), ('his', 'PRP$'), ('mother', 'NN'), ('was', 'VBD'), ('the', 'DT'), ('daughter', 'NN'), ('of', 'IN'), ('a', 'DT'), ('prosperous', 'JJ'), ('merchant', 'NN'), ('.', '.')], [('Julia', 'NNP'), ('left', 'VBD'), ('Riga', 'NNP'), ('the', 'DT'), ('same', 'JJ'), ('year', 'NN'), ('as', 'IN'), ('the', 'DT'), ('Russian', 'JJ'), ('Revolution', 'NNP'), ('of', 'IN'), ('1905', 'CD'), (',', ','), ('taking', 'VBG'), ('Sergei', 'NN'), ('with', 'IN'), ('her', 'PRP$'), ('to', 'TO'), ('St.', 'NNP'), ('Petersburg', 'NNP'), ('.', '.')], [('Her', 'PRP$'), ('son', 'NN'), ('would', 'MD'), ('return', 'VB'), ('at', 'IN'), ('times', 'NNS'), ('to', 'TO'), ('see', 'VB'), ('his', 'PRP$'), ('father', 'NN'), (',', ','), ('who', 'WP'), ('joined', 'VBD'), ('them', 'PRP'), ('around', 'IN'), ('1910', 'CD'), ('.', '.')], [('Divorce', 'NN'), ('followed', 'VBD'), ('and', 'CC'), ('Julia', 'NNP'), ('left', 'VBD'), ('the', 'DT'), ('family', 'NN'), ('to', 'TO'), ('live', 'VB'), ('in', 'IN'), ('France', 'NNP'), ('.', '.')], [('Eisenstein', 'NNP'), ('was', 'VBD'), ('raised', 'VBN'), ('as', 'IN'), ('an', 'DT'), ('Orthodox', 'NNP'), ('Christian', 'NNP'), (',', ','), ('but', 'CC'), ('became', 'VBD'), ('an', 'DT'), ('atheist', 'NN'), ('later', 'RB'), ('on', 'IN'), ('.', '.')]]\n"
     ]
    }
   ],
   "source": [
    "from nltk import word_tokenize\n",
    "from nltk import sent_tokenize\n",
    "from nltk import pos_tag\n",
    "sent_tokens = sent_tokenize(text)\n",
    "\n",
    "tags = []\n",
    "for sent in sent_tokens:\n",
    "    tags.append(pos_tag(word_tokenize(sent)))\n",
    "print (tags)"
   ]
  },
  {
   "cell_type": "code",
   "execution_count": null,
   "metadata": {
    "collapsed": true
   },
   "outputs": [],
   "source": []
  }
 ],
 "metadata": {
  "kernelspec": {
   "display_name": "Python 3",
   "language": "python",
   "name": "python3"
  },
  "language_info": {
   "codemirror_mode": {
    "name": "ipython",
    "version": 3
   },
   "file_extension": ".py",
   "mimetype": "text/x-python",
   "name": "python",
   "nbconvert_exporter": "python",
   "pygments_lexer": "ipython3",
   "version": "3.6.4"
  }
 },
 "nbformat": 4,
 "nbformat_minor": 2
}

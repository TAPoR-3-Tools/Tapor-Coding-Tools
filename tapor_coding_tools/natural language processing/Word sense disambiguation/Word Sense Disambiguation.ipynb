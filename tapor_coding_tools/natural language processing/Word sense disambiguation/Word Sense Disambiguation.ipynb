{
 "cells": [
  {
   "cell_type": "markdown",
   "metadata": {},
   "source": [
    "## Get word sense based on context\n",
    "This notebook will show how to get the definition of an ambiguous word based on its context. The module we will use is callsed wsd (word sense disambiguation) from nltk. The module performs the classic Lesk algorithm for Word Sense Disambiguation (WSD) using a the definitions of the ambiguous word.\n"
   ]
  },
  {
   "cell_type": "code",
   "execution_count": 8,
   "metadata": {},
   "outputs": [
    {
     "data": {
      "text/plain": [
       "['Today',\n",
       " ',',\n",
       " 'some',\n",
       " 'dogs',\n",
       " 'are',\n",
       " 'used',\n",
       " 'as',\n",
       " 'pets',\n",
       " ',',\n",
       " 'others',\n",
       " 'are',\n",
       " 'used',\n",
       " 'to',\n",
       " 'help',\n",
       " 'humans',\n",
       " 'do',\n",
       " 'their',\n",
       " 'work',\n",
       " '.']"
      ]
     },
     "execution_count": 8,
     "metadata": {},
     "output_type": "execute_result"
    }
   ],
   "source": [
    "from nltk.wsd import lesk\n",
    "from nltk import word_tokenize\n",
    "\n",
    "sent = 'Today, some dogs are used as pets, others are used to help humans do their work.'\n",
    "tokens = word_tokenize(sent)\n",
    "tokens"
   ]
  },
  {
   "cell_type": "markdown",
   "metadata": {},
   "source": [
    "Here we will use word 'today' to check its definition in this context.\n"
   ]
  },
  {
   "cell_type": "code",
   "execution_count": 15,
   "metadata": {},
   "outputs": [
    {
     "name": "stdout",
     "output_type": "stream",
     "text": [
      "Synset('today.r.02')\n"
     ]
    }
   ],
   "source": [
    "# lesk function has four parameters:\n",
    "# context_sentence, ambiguous_word, pos=None, synsets=None\n",
    "# the pos(A specified Part-of-Speech) and synsets(Possible synsets of the ambiguous word) can be empty\n",
    "print(lesk(sent,'today'))"
   ]
  },
  {
   "cell_type": "markdown",
   "metadata": {},
   "source": [
    "call .definition to check the exact definition of 'today' in this sentence."
   ]
  },
  {
   "cell_type": "code",
   "execution_count": 14,
   "metadata": {},
   "outputs": [
    {
     "data": {
      "text/plain": [
       "'on this day as distinct from yesterday or tomorrow'"
      ]
     },
     "execution_count": 14,
     "metadata": {},
     "output_type": "execute_result"
    }
   ],
   "source": [
    "lesk(tokens, 'today').definition()"
   ]
  },
  {
   "cell_type": "markdown",
   "metadata": {},
   "source": [
    "Reference: \n",
    "http://www.nltk.org/howto/wsd.html"
   ]
  },
  {
   "cell_type": "code",
   "execution_count": null,
   "metadata": {
    "collapsed": true
   },
   "outputs": [],
   "source": []
  }
 ],
 "metadata": {
  "kernelspec": {
   "display_name": "Python 3",
   "language": "python",
   "name": "python3"
  },
  "language_info": {
   "codemirror_mode": {
    "name": "ipython",
    "version": 3
   },
   "file_extension": ".py",
   "mimetype": "text/x-python",
   "name": "python",
   "nbconvert_exporter": "python",
   "pygments_lexer": "ipython3",
   "version": "3.6.4"
  }
 },
 "nbformat": 4,
 "nbformat_minor": 2
}

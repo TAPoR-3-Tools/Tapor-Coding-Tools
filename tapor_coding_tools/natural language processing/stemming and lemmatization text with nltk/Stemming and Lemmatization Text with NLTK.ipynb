{
 "cells": [
  {
   "cell_type": "markdown",
   "metadata": {},
   "source": [
    "# Stemming and Lemmatization with NLTK\n",
    "\n",
    "This notebook is an overview on stemming and lemmatization and what the methods can do for you. Since the Natural Language Toolkit (NLTK) provides many different methods to conduct both aspects, we will be comparing them against eachother to give you a better idea of which one will suit your needs.\n"
   ]
  },
  {
   "cell_type": "markdown",
   "metadata": {},
   "source": [
    "## Importing Libraries\n",
    "\n",
    "Before we begin, we will import all the required libraries for the notebook."
   ]
  },
  {
   "cell_type": "code",
   "execution_count": 1,
   "metadata": {
    "collapsed": true
   },
   "outputs": [],
   "source": [
    "# The Stemmers presented by nltk\n",
    "from nltk.stem.regexp import RegexpStemmer\n",
    "from nltk.stem.lancaster import LancasterStemmer\n",
    "from nltk.stem.porter import PorterStemmer\n",
    "from nltk.stem.snowball import SnowballStemmer\n",
    "\n",
    "# The Lemmatization presented by nltk\n",
    "from nltk.stem import WordNetLemmatizer\n"
   ]
  },
  {
   "cell_type": "markdown",
   "metadata": {},
   "source": [
    "## What is Stemming?\n",
    "\n",
    "Stemming is the process of creating root words from their derivative forms. A simple example is removing \"s\", or the plural suffix letters, from a word. This is important in different applications. For example, streamlining a corpus or reducing variation in a body of work.\n",
    "\n",
    "## Stemming\n",
    "\n",
    "We will first demonstrate how to use PorterStemmer, as it is one of the more popular libraries. All other stemmers will follow the same structure to initalize and conduct stemming. Therefore, all that is required is a simple change in terms from one stemmer to the next.\n"
   ]
  },
  {
   "cell_type": "code",
   "execution_count": 2,
   "metadata": {},
   "outputs": [
    {
     "name": "stdout",
     "output_type": "stream",
     "text": [
      "Stemming 'Working' \t= work\n",
      "Stemming 'Works' \t= work\n",
      "Stemming 'Worked' \t= work\n",
      "Stemming 'Work' \t= work\n"
     ]
    }
   ],
   "source": [
    "# Import the stemmer to use\n",
    "portStem = PorterStemmer()\n",
    "\n",
    "# Trying out the Stemmer on variations of the word \"Work\" \n",
    "print(\"Stemming 'Working' \\t= \" + portStem.stem(\"Working\"))\n",
    "print(\"Stemming 'Works' \\t= \" + portStem.stem(\"Works\"))\n",
    "print(\"Stemming 'Worked' \\t= \" + portStem.stem(\"Worked\"))\n",
    "print(\"Stemming 'Work' \\t= \" + portStem.stem(\"Work\"))"
   ]
  },
  {
   "cell_type": "markdown",
   "metadata": {},
   "source": [
    "As you can see, stemming was able to convert the different forms of the word \"Work\" back into the word \"work\". Now we are going to showcase other Stemmers found in NLTK. The differences between each stemmer can be found in the documentation here:\n",
    "http://www.nltk.org/api/nltk.stem.html\n",
    "\n",
    "Although there may not be variations seen in the following examples, this is not always the case. Therefore, proper research into the different stemmers is recommended. \n",
    "\n",
    "Feel free to skip this part and proceed to the lemmatization section if the previous stemmer fits your needs."
   ]
  },
  {
   "cell_type": "code",
   "execution_count": 3,
   "metadata": {},
   "outputs": [
    {
     "name": "stdout",
     "output_type": "stream",
     "text": [
      "LancasterStemmer 'Working' \t= work\n",
      "LancasterStemmer 'Works' \t= work\n",
      "LancasterStemmer 'Worked' \t= work\n",
      "LancasterStemmer 'Work' \t= work\n",
      "\n",
      "========================================\n",
      "\n",
      "SnowballStemmer 'Working' \t= work\n",
      "SnowballStemmer 'Works' \t= work\n",
      "SnowballStemmer 'Worked' \t= work\n",
      "SnowballStemmer 'Work'  \t= work\n",
      "\n",
      "========================================\n",
      "\n",
      "RegexpStemmer 'Working' \t= Work\n",
      "RegexpStemmer 'Works'   \t= Work\n",
      "RegexpStemmer 'Worked'   \t= Work\n",
      "RegexpStemmer 'Work'    \t= Work\n",
      "\n",
      "========================================\n",
      "\n"
     ]
    }
   ],
   "source": [
    "# Lancaster Stemmer\n",
    "lanStem = LancasterStemmer()\n",
    "print(\"LancasterStemmer 'Working' \\t= \" + lanStem.stem(\"Working\"))\n",
    "print(\"LancasterStemmer 'Works' \\t= \" + lanStem.stem(\"Works\"))\n",
    "print(\"LancasterStemmer 'Worked' \\t= \" + lanStem.stem(\"Worked\"))\n",
    "print(\"LancasterStemmer 'Work' \\t= \" + lanStem.stem(\"Work\"))\n",
    "print(\"\\n========================================\\n\") \n",
    "\n",
    "# SnowballStemmer (It also allows different lanugages outside english)\n",
    "snowStem = SnowballStemmer(\"english\") # Choose a language\n",
    "print(\"SnowballStemmer 'Working' \\t= \" + snowStem.stem(\"Working\"))\n",
    "print(\"SnowballStemmer 'Works' \\t= \" + snowStem.stem(\"Works\"))\n",
    "print(\"SnowballStemmer 'Worked' \\t= \" + snowStem.stem(\"Worked\"))\n",
    "print(\"SnowballStemmer 'Work'  \\t= \" + snowStem.stem(\"Work\"))\n",
    "print(\"\\n========================================\\n\") \n",
    "\n",
    "# RegexpStemmer (Stems via regular expressions)\n",
    "RegStem = RegexpStemmer('ing$|s$|ed$', min=3)\n",
    "print(\"RegexpStemmer 'Working' \\t= \" + RegStem.stem(\"Working\"))\n",
    "print(\"RegexpStemmer 'Works'   \\t= \" + RegStem.stem(\"Works\"))\n",
    "print(\"RegexpStemmer 'Worked'   \\t= \" + RegStem.stem(\"Worked\"))\n",
    "print(\"RegexpStemmer 'Work'    \\t= \" + RegStem.stem(\"Work\"))\n",
    "print(\"\\n========================================\\n\") \n"
   ]
  },
  {
   "cell_type": "markdown",
   "metadata": {},
   "source": [
    "## Lemmatization \n",
    "\n",
    "Lemmatization is the process of grouping the different inflected forms of a word into a single item. \n",
    "\n",
    "At first glance this seems very similar to stemming. It is true that stemming and lemmatization are quite similar, however there are subtle differences. Stemmers work without knowledge of the content the word or words are being used for, whereas lemmatizsation makes use of a vocabulary and morphological analysis. For this reason, stemming is faster than lemmatization on larger bodys of text.\n",
    "\n",
    "For additional information, follow this link to the documentation: http://www.nltk.org/api/nltk.stem.html\n"
   ]
  },
  {
   "cell_type": "code",
   "execution_count": 4,
   "metadata": {},
   "outputs": [
    {
     "name": "stdout",
     "output_type": "stream",
     "text": [
      "WordNetLemmatizer 'Working' \t= Working\n",
      "WordNetLemmatizer 'Works'   \t= Works\n",
      "WordNetLemmatizer 'Worked'   \t= Worked\n",
      "WordNetLemmatizer 'Work'    \t= Work\n"
     ]
    }
   ],
   "source": [
    "# Initalize the lemmatizer\n",
    "wordLemmatizer = WordNetLemmatizer()\n",
    "\n",
    "print(\"WordNetLemmatizer 'Working' \\t= \" + wordLemmatizer.lemmatize(\"Working\"))\n",
    "print(\"WordNetLemmatizer 'Works'   \\t= \" + wordLemmatizer.lemmatize(\"Works\"))\n",
    "print(\"WordNetLemmatizer 'Worked'   \\t= \" + wordLemmatizer.lemmatize(\"Worked\"))\n",
    "print(\"WordNetLemmatizer 'Work'    \\t= \" + wordLemmatizer.lemmatize(\"Work\"))"
   ]
  },
  {
   "cell_type": "markdown",
   "metadata": {},
   "source": [
    "## Showcase the difference between lemmatization and stemming\n",
    "\n",
    "Now that both methods have been demonstrated, we will provide an example that shows their differences in more detail. We have chosen to use Porter stemmer as the example for stemming."
   ]
  },
  {
   "cell_type": "code",
   "execution_count": 5,
   "metadata": {
    "scrolled": true
   },
   "outputs": [
    {
     "name": "stdout",
     "output_type": "stream",
     "text": [
      "Original  Word: operate\n",
      "Stemmed   Word: oper\n",
      "Lemmatize Word: operate\n",
      "\n",
      "\n",
      "Original  Word: operating\n",
      "Stemmed   Word: oper\n",
      "Lemmatize Word: operating\n",
      "\n",
      "\n",
      "Original  Word: operates\n",
      "Stemmed   Word: oper\n",
      "Lemmatize Word: operates\n",
      "\n",
      "\n",
      "Original  Word: operation\n",
      "Stemmed   Word: oper\n",
      "Lemmatize Word: operation\n",
      "\n",
      "\n",
      "Original  Word: operative\n",
      "Stemmed   Word: oper\n",
      "Lemmatize Word: operative\n",
      "\n",
      "\n",
      "Original  Word: operatives\n",
      "Stemmed   Word: oper\n",
      "Lemmatize Word: operative\n",
      "\n",
      "\n",
      "Original  Word: operational\n",
      "Stemmed   Word: oper\n",
      "Lemmatize Word: operational\n",
      "\n",
      "\n"
     ]
    }
   ],
   "source": [
    "# Initialize Stemmer\n",
    "portStem = PorterStemmer()\n",
    "\n",
    "# Initalize Lemmatizer\n",
    "wordLemmatizer = WordNetLemmatizer()\n",
    "\n",
    "# List of words to test on\n",
    "Words = [\"operate\" ,\"operating\" ,\"operates\", \"operation\" ,\"operative\", \"operatives\" ,\"operational\"]\n",
    "StemWords = []\n",
    "LemmWords = []\n",
    "\n",
    "# Stem and Lemmatise each word in the list\n",
    "for word in Words:\n",
    "    StemWords.append(portStem.stem(word))\n",
    "    LemmWords.append(wordLemmatizer.lemmatize(word))\n",
    "    \n",
    "# Print the results of each entry\n",
    "for entry in range(len(Words)):\n",
    "    print(\"Original  Word: \" + Words[entry])\n",
    "    print(\"Stemmed   Word: \" + StemWords[entry])\n",
    "    print(\"Lemmatize Word: \" + LemmWords[entry])\n",
    "    print(\"\\n\")"
   ]
  },
  {
   "cell_type": "markdown",
   "metadata": {},
   "source": [
    "## Conclusion \n",
    "\n",
    "In this notebook we went over the different stemming and lemmatization methods found in NLTK. Additionaly, we showcased the differences between them. "
   ]
  }
 ],
 "metadata": {
  "kernelspec": {
   "display_name": "Python 3",
   "language": "python",
   "name": "python3"
  },
  "language_info": {
   "codemirror_mode": {
    "name": "ipython",
    "version": 3
   },
   "file_extension": ".py",
   "mimetype": "text/x-python",
   "name": "python",
   "nbconvert_exporter": "python",
   "pygments_lexer": "ipython3",
   "version": "3.6.3"
  }
 },
 "nbformat": 4,
 "nbformat_minor": 2
}

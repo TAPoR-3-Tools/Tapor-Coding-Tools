{
 "cells": [
  {
   "cell_type": "markdown",
   "metadata": {},
   "source": [
    "# Plotting Words Frequency with matplotlib\n",
    "\n",
    "In this notebook, it will go over how to acquire a corpus from gutenberg. Afterwards using nltk analyze the text for word frequency and from there using some graphs find interesting information on word distribution.\n",
    "\n",
    "\n",
    "## Libraries and Resources used\n",
    "\n",
    "-  Python 3\n",
    "-  nltk\n",
    "-  urllib3\n",
    "-  matplotlib\n",
    "\n",
    "## Note:\n",
    "\n",
    "For installation of the nessesary resources and libraries refer to their respective home page for installation steps for your operation system.\n",
    "\n",
    "\n",
    "Written in October 2017"
   ]
  },
  {
   "cell_type": "markdown",
   "metadata": {},
   "source": [
    "### Importing all the required Libraries"
   ]
  },
  {
   "cell_type": "code",
   "execution_count": 1,
   "metadata": {
    "collapsed": true
   },
   "outputs": [],
   "source": [
    "import urllib3\n",
    "import nltk\n",
    "import matplotlib.pyplot as plt\n",
    "import os\n",
    "\n",
    "# make sure that graphs are embedded into our notebook output\n",
    "%matplotlib inline"
   ]
  },
  {
   "cell_type": "markdown",
   "metadata": {},
   "source": [
    "### Loading a text from gutenburg and saving it in a txt file\n",
    "\n",
    "In this example we will be looking at the text of Moby Dick by Herman Melville"
   ]
  },
  {
   "cell_type": "code",
   "execution_count": 2,
   "metadata": {
    "collapsed": true
   },
   "outputs": [],
   "source": [
    "# Using urllib.request we can fetch the text\n",
    "webUrl = \"http://www.gutenberg.org/cache/epub/2147/pg2147.txt\"\n",
    "\n",
    "# Save the text from the webpage into a variable\n",
    "http_pool = urllib3.connection_from_url(webUrl)\n",
    "storyString = http_pool.urlopen('GET',webUrl)\n",
    "\n",
    "# Save the data into a text file\n",
    "with open(\"MobyDick.txt\", \"w\") as f:\n",
    "    # Write all the content into the file\n",
    "    f.write(storyString.data.decode('utf-8'))"
   ]
  },
  {
   "cell_type": "markdown",
   "metadata": {},
   "source": [
    "### Using nltk to get word frequency\n",
    "\n",
    "Although it wasn't vital that we saved the URL content into another text file (since the original URL links to a text file). It allows you to apply other code/programs to the text file for cleaning. In this example however we will also be removing stopwords from the text as well."
   ]
  },
  {
   "cell_type": "code",
   "execution_count": 3,
   "metadata": {},
   "outputs": [
    {
     "ename": "NameError",
     "evalue": "name 'nltk' is not defined",
     "output_type": "error",
     "traceback": [
      "\u001b[0;31m---------------------------------------------------------------------------\u001b[0m",
      "\u001b[0;31mNameError\u001b[0m                                 Traceback (most recent call last)",
      "\u001b[0;32m<ipython-input-3-0cb541ba666b>\u001b[0m in \u001b[0;36m<module>\u001b[0;34m()\u001b[0m\n\u001b[1;32m      6\u001b[0m \u001b[0;31m# Lowercase all the words (to ensure \"Sure\" and \"sure\" are matched together)\u001b[0m\u001b[0;34m\u001b[0m\u001b[0;34m\u001b[0m\u001b[0m\n\u001b[1;32m      7\u001b[0m \u001b[0;31m# Also word_tokenize splits each element in individual tokens\u001b[0m\u001b[0;34m\u001b[0m\u001b[0;34m\u001b[0m\u001b[0m\n\u001b[0;32m----> 8\u001b[0;31m \u001b[0mmobyDickText\u001b[0m \u001b[0;34m=\u001b[0m \u001b[0mnltk\u001b[0m\u001b[0;34m.\u001b[0m\u001b[0mword_tokenize\u001b[0m\u001b[0;34m(\u001b[0m\u001b[0mmobyDickTextFull\u001b[0m\u001b[0;34m.\u001b[0m\u001b[0mlower\u001b[0m\u001b[0;34m(\u001b[0m\u001b[0;34m)\u001b[0m\u001b[0;34m)\u001b[0m\u001b[0;34m\u001b[0m\u001b[0m\n\u001b[0m\u001b[1;32m      9\u001b[0m \u001b[0;34m\u001b[0m\u001b[0m\n\u001b[1;32m     10\u001b[0m \u001b[0;31m# Remove any words that isn't a word\u001b[0m\u001b[0;34m\u001b[0m\u001b[0;34m\u001b[0m\u001b[0m\n",
      "\u001b[0;31mNameError\u001b[0m: name 'nltk' is not defined"
     ]
    }
   ],
   "source": [
    "# Read the text file\n",
    "with open(\"MobyDick.txt\", \"r\") as f:\n",
    "    mobyDickTextFull = f.read()\n",
    " \n",
    "    \n",
    "# Lowercase all the words (to ensure \"Sure\" and \"sure\" are matched together)\n",
    "# Also word_tokenize splits each element in individual tokens\n",
    "mobyDickText = nltk.word_tokenize(mobyDickTextFull.lower())\n",
    "\n",
    "# Remove any words that isn't a word\n",
    "mobyDickText = [word for word in mobyDickText if word[0].isalpha()]\n",
    "\n",
    "# Get all the stopwords and remove them from the text\n",
    "stopwords = nltk.corpus.stopwords.words(\"english\")\n",
    "mobyDickText = [word for word in mobyDickText if word not in stopwords]\n",
    "\n",
    "# Using nltk find all the frequencies\n",
    "mobyDickTextFrequency = nltk.FreqDist(mobyDickText)\n",
    "\n",
    "# See the top 20 most common words\n",
    "print(mobyDickTextFrequency.most_common(20))"
   ]
  },
  {
   "cell_type": "markdown",
   "metadata": {},
   "source": [
    "### Graphing the frequency for a better picture\n",
    "\n",
    "Although we do have the all the frequencies in a list. It is easier to find patterns or points of interest if we can visualize the data in a different way than just listing them."
   ]
  },
  {
   "cell_type": "code",
   "execution_count": 4,
   "metadata": {},
   "outputs": [
    {
     "data": {
      "image/png": "[encoded data removed]",
      "text/plain": [
       "<matplotlib.figure.Figure at 0x7fd86da8ad68>"
      ]
     },
     "metadata": {},
     "output_type": "display_data"
    }
   ],
   "source": [
    "mobyDickTextFrequency.plot(20, title=\"Top Frequency Content Terms in Moby Dick\")"
   ]
  },
  {
   "cell_type": "markdown",
   "metadata": {},
   "source": [
    "Looking at the graph above there is very little of amount of words that can be used as names. However the words \"us\" is centered between \"one\" and \"two\". There could be a reason for that."
   ]
  },
  {
   "cell_type": "markdown",
   "metadata": {},
   "source": [
    "### Looking at concordance for more information\n",
    "\n",
    "Lets have a closer look at the concordance of the three words to see if there is a relationship.\n",
    "\n"
   ]
  },
  {
   "cell_type": "code",
   "execution_count": 5,
   "metadata": {},
   "outputs": [
    {
     "name": "stdout",
     "output_type": "stream",
     "text": [
      "Displaying 5 of 300 matches:\n",
      "Willis The Unparalleled Adventures of One Hans Pfall The Gold Bug Four Beasts i\n",
      "ans Pfall The Gold Bug Four Beasts in One The Murders in the Rue Morgue The Mys\n",
      "st and followed faster till his songs one burden bore -- Till the dirges of his\n",
      "ttage at Fordham , N. Y. : '' Here is one of the finest scholars , one of the m\n",
      " Here is one of the finest scholars , one of the most original men of genius , \n",
      "Displaying 5 of 118 matches:\n",
      "xistence . When Edgar , at the age of two years , was orphaned , the family was\n",
      " best-known tales , was $ 10 a week ! Two years later his salary was but $ 600 \n",
      "ad agreed to pay him $ 20 monthly for two pages of criticism . Those were disco\n",
      "ar when youth and beauty die . In the two and a half score years that have elap\n",
      "t of their idiosyncrasy . Mr. Poe has two of the prime qualities of genius , a \n",
      "Displaying 5 of 158 matches:\n",
      "e articulate rumor barely has reached us dwellers by the Atlantic . Perhaps th\n",
      "ency of the young poet that impresses us . Here is no '' withering scorn , '' \n",
      " music of nature , our boy-poet gives us the following exquisite picture : Lig\n",
      "all _genius_ . No man could ever tell us precisely what it is , and yet there \n",
      "he has strange success , conveying to us sometimes by a dusky hint some terrib\n"
     ]
    }
   ],
   "source": [
    "# Tokenize the text\n",
    "mobyDickText = nltk.Text(nltk.word_tokenize(mobyDickTextFull))\n",
    "\n",
    "# Get the concordance for the 3 words\n",
    "mobyDickText.concordance(\"one\", lines=5)\n",
    "mobyDickText.concordance(\"two\", lines=5)\n",
    "mobyDickText.concordance(\"us\", lines=5)"
   ]
  },
  {
   "cell_type": "markdown",
   "metadata": {},
   "source": [
    "Depending on what you are looking for this concordance may provide useful information to undercover. However we can also use other graphical techniques to get a better picture."
   ]
  },
  {
   "cell_type": "markdown",
   "metadata": {},
   "source": [
    "### Graphhing Dispersion\n",
    "\n",
    "We can graph all three words into a dispersion chart to see if they appear near eachother."
   ]
  },
  {
   "cell_type": "code",
   "execution_count": 6,
   "metadata": {},
   "outputs": [
    {
     "data": {
      "image/png": "[encoded data removed]",
      "text/plain": [
       "<matplotlib.figure.Figure at 0x7fd86d03b898>"
      ]
     },
     "metadata": {},
     "output_type": "display_data"
    }
   ],
   "source": [
    "mobyDickText.dispersion_plot([\"one\", \"two\", \"us\"])"
   ]
  },
  {
   "cell_type": "markdown",
   "metadata": {},
   "source": [
    "### Conclusion\n",
    "\n",
    "Although there may not be any importance between the three words graphing the data result helped explore the possible relationship between words or terms that might not be noticable without graphing the data.\n",
    "\n",
    "\n",
    "This notebook was created in part from resources found at :\n",
    "https://github.com/sgsinclair/alta/blob/6dd71da5377217cdee85efba384c8bf66936ab82/ipynb/GettingGraphical.ipynb"
   ]
  },
  {
   "cell_type": "code",
   "execution_count": null,
   "metadata": {
    "collapsed": true
   },
   "outputs": [],
   "source": []
  }
 ],
 "metadata": {
  "kernelspec": {
   "display_name": "Python 3",
   "language": "python",
   "name": "python3"
  },
  "language_info": {
   "codemirror_mode": {
    "name": "ipython",
    "version": 3
   },
   "file_extension": ".py",
   "mimetype": "text/x-python",
   "name": "python",
   "nbconvert_exporter": "python",
   "pygments_lexer": "ipython3",
   "version": "3.6.4"
  }
 },
 "nbformat": 4,
 "nbformat_minor": 2
}

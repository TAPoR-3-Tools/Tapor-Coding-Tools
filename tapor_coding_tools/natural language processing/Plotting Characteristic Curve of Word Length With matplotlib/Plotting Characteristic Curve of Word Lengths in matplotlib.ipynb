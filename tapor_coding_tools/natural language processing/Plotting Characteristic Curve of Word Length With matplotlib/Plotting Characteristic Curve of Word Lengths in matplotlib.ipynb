{
 "cells": [
  {
   "cell_type": "markdown",
   "metadata": {},
   "source": [
    "# Plotting Characteristic Curve of Word Lengths with matplotlib\n",
    "\n",
    "In this notebook, it will go over how to acquire a corpus from gutenberg. Afterwards using nltk analyze the text for characteristic curve of words. Finally using matplotlib plot this information.\n",
    "\n",
    "## Libraries and Resources used\n",
    "\n",
    "-  Python 3\n",
    "-  nltk\n",
    "-  urllib3\n",
    "-  matplotlib\n",
    "\n",
    "## Note:\n",
    "\n",
    "For installation of the nessesary resources and libraries refer to their respective home page for installation steps for your operation system.\n",
    "\n",
    "\n",
    "Written in October 2017"
   ]
  },
  {
   "cell_type": "markdown",
   "metadata": {},
   "source": [
    "### Importing all the required Libraries"
   ]
  },
  {
   "cell_type": "code",
   "execution_count": 1,
   "metadata": {
    "collapsed": true
   },
   "outputs": [],
   "source": [
    "import urllib3\n",
    "import nltk\n",
    "import matplotlib.pyplot as plt\n",
    "import os\n",
    "\n",
    "# make sure that graphs are embedded into our notebook output\n",
    "%matplotlib inline"
   ]
  },
  {
   "cell_type": "markdown",
   "metadata": {},
   "source": [
    "### Loading a text from gutenburg and saving it in a txt file\n",
    "\n",
    "In this example we will be looking at the text of Moby Dick by Herman Melville"
   ]
  },
  {
   "cell_type": "code",
   "execution_count": 2,
   "metadata": {
    "collapsed": true
   },
   "outputs": [],
   "source": [
    "# Using urllib.request we can fetch the text\n",
    "webUrl = \"http://www.gutenberg.org/cache/epub/2147/pg2147.txt\"\n",
    "\n",
    "# Save the text from the webpage into a variable\n",
    "http_pool = urllib3.connection_from_url(webUrl)\n",
    "storyString = http_pool.urlopen('GET',webUrl)\n",
    "\n",
    "# Save the data into a text file\n",
    "with open(\"MobyDick.txt\", \"w\") as f:\n",
    "    # Write all the content into the file\n",
    "    f.write(storyString.data.decode('utf-8'))"
   ]
  },
  {
   "cell_type": "markdown",
   "metadata": {},
   "source": [
    "### Using nltk to clean corpus and save word length\n",
    "\n",
    "Although it wasn't vital that we saved the URL content into another text file (since the original URL links to a text file). It allows you to apply other code/programs to the text file for cleaning. In this example however we will not be doing any additional cleaning to the text file. In this case we will save all cleaning into the variable \"mobyDictText\" and the word length in \"mobyDickTextWordLength\". "
   ]
  },
  {
   "cell_type": "code",
   "execution_count": 3,
   "metadata": {
    "collapsed": true
   },
   "outputs": [],
   "source": [
    "# Read the text file\n",
    "with open(\"MobyDick.txt\", \"r\") as f:\n",
    "    mobyDictText = f.read()\n",
    "\n",
    "# Lowercase all the words (to ensure \"Sure\" and \"sure\" are matched together)\n",
    "# Also word_tokenize splits each element in individual tokens\n",
    "mobyDictText = nltk.word_tokenize(mobyDictText.lower())\n",
    "\n",
    "# Remove any words that isn't a word\n",
    "mobyDictText = [word for word in mobyDictText if word[0].isalpha()]\n",
    "\n",
    "# Iterate through each word and save its length\n",
    "mobyDictTextWordLength = [len(w) for w in mobyDictText]"
   ]
  },
  {
   "cell_type": "markdown",
   "metadata": {},
   "source": [
    "### Varification\n",
    "\n",
    "Before we move on. Lets just check to ensure that the code is working as intended"
   ]
  },
  {
   "cell_type": "code",
   "execution_count": 4,
   "metadata": {},
   "outputs": [
    {
     "name": "stdout",
     "output_type": "stream",
     "text": [
      "First five words:  ['gutenberg', 'the', 'works', 'of', 'edgar']\n",
      "First five word lengths:  [9, 3, 5, 2, 5]\n"
     ]
    }
   ],
   "source": [
    "# Print the first 5 words and their length\n",
    "print(\"First five words: \", mobyDictText[:5])\n",
    "print(\"First five word lengths: \", mobyDictTextWordLength[:5])"
   ]
  },
  {
   "cell_type": "markdown",
   "metadata": {},
   "source": [
    "### Graphing word length\n",
    "\n",
    "Now that we have all the word lengths it is time to graph it."
   ]
  },
  {
   "cell_type": "code",
   "execution_count": 5,
   "metadata": {},
   "outputs": [
    {
     "data": {
      "image/png": "[encoded data removed]",
      "text/plain": [
       "<matplotlib.figure.Figure at 0x7fdcd2b55d30>"
      ]
     },
     "metadata": {},
     "output_type": "display_data"
    }
   ],
   "source": [
    "nltk.FreqDist(mobyDictTextWordLength).plot()"
   ]
  },
  {
   "cell_type": "markdown",
   "metadata": {},
   "source": [
    "Note that the graph itself does not being a 0 on the x-axis. This is because the graph is sorted by count (y-axis). Meaning the word length with the highest amount is in the first position on the x-axis. To fix this we can sort our initial word length list by word length. "
   ]
  },
  {
   "cell_type": "code",
   "execution_count": 6,
   "metadata": {},
   "outputs": [
    {
     "name": "stdout",
     "output_type": "stream",
     "text": [
      "[(1, 3481), (2, 17996), (3, 20223), (4, 14896), (5, 9547), (6, 7208), (7, 6357), (8, 4745), (9, 3617), (10, 2524), (11, 1268), (12, 784), (13, 460), (14, 132), (15, 63), (16, 13), (17, 10), (18, 2), (19, 10), (20, 4), (21, 1)]\n"
     ]
    }
   ],
   "source": [
    "# Sort the list from smallest to greatest word length\n",
    "mobyDictTextWordLength = list(sorted(nltk.FreqDist(mobyDictTextWordLength).items()))\n",
    "\n",
    "# Print result to see\n",
    "print(mobyDictTextWordLength) "
   ]
  },
  {
   "cell_type": "markdown",
   "metadata": {},
   "source": [
    "### Plotting the new word length list\n",
    "\n",
    "Now that we have ordered the list we can now graph it in a more useful way."
   ]
  },
  {
   "cell_type": "code",
   "execution_count": 7,
   "metadata": {},
   "outputs": [
    {
     "data": {
      "text/plain": [
       "<matplotlib.text.Text at 0x7fdccf2ca898>"
      ]
     },
     "execution_count": 7,
     "metadata": {},
     "output_type": "execute_result"
    },
    {
     "data": {
      "image/png": "[encoded data removed]",
      "text/plain": [
       "<matplotlib.figure.Figure at 0x7fdcd281bdd8>"
      ]
     },
     "metadata": {},
     "output_type": "display_data"
    }
   ],
   "source": [
    "# Grabs all the word lengths (0 -> 21)\n",
    "mobyDictWordLength = [f[0] for f in mobyDictTextWordLength]\n",
    "\n",
    "# Grabs all the values for all the word length that is assoicated with them\n",
    "mobyDictWordLengthValues = [f[1] for f in mobyDictTextWordLength]\n",
    "\n",
    "# Create a plot of the values\n",
    "plt.plot(mobyDictWordLength, mobyDictWordLengthValues)\n",
    "\n",
    "# Set labels and values\n",
    "plt.xlabel('Word Length')\n",
    "plt.ylabel('Word Count')\n",
    "plt.title(\"Moby Dick Word Length\")"
   ]
  },
  {
   "cell_type": "markdown",
   "metadata": {},
   "source": [
    "### Plotting with other graph\n",
    "\n",
    "Not only can we have this type of graph we can also insert this information into other graphs. For example a historgram or bar graph."
   ]
  },
  {
   "cell_type": "code",
   "execution_count": 8,
   "metadata": {},
   "outputs": [
    {
     "data": {
      "image/png": "[encoded data removed]",
      "text/plain": [
       "<matplotlib.figure.Figure at 0x7fdcd27807f0>"
      ]
     },
     "metadata": {},
     "output_type": "display_data"
    },
    {
     "data": {
      "image/png": "[encoded data removed]",
      "text/plain": [
       "<matplotlib.figure.Figure at 0x7fdcd2907dd8>"
      ]
     },
     "metadata": {},
     "output_type": "display_data"
    }
   ],
   "source": [
    "# Create a histogram \n",
    "# Bins determines how many sections and we want as many sections as there are different word length\n",
    "plt.hist(mobyDictWordLengthValues, bins=len(mobyDictWordLengthValues))\n",
    "plt.xlabel('Word Length')\n",
    "plt.ylabel('Word Count')\n",
    "plt.title(\"Moby Dick Word Length\")\n",
    "plt.show() # Show the plot.\n",
    "\n",
    "\n",
    "# Create a bar graph\n",
    "plt.bar(mobyDictWordLength,mobyDictWordLengthValues, width=0.5,align='center')\n",
    "plt.xlabel('Word Length')\n",
    "plt.ylabel('Word Count')\n",
    "plt.title(\"Moby Dick Word Length\")\n",
    "\n",
    "# Show bar graph\n",
    "plt.show() "
   ]
  },
  {
   "cell_type": "markdown",
   "metadata": {},
   "source": [
    "### Conclusion\n",
    "\n",
    "Now you are to use urllib3 to go to a URL to get the content. Followed by the ability to save the text into a save file which you can then load and clean however you wish. Finally using nltk and matplotlib able to map the word length of a the text as different type of graphs.\n",
    "\n",
    "This notebook was created in part from resources found at :\n",
    "https://github.com/sgsinclair/alta/blob/6dd71da5377217cdee85efba384c8bf66936ab82/ipynb/GettingGraphical.ipynb"
   ]
  },
  {
   "cell_type": "code",
   "execution_count": null,
   "metadata": {
    "collapsed": true
   },
   "outputs": [],
   "source": []
  }
 ],
 "metadata": {
  "kernelspec": {
   "display_name": "Python 3",
   "language": "python",
   "name": "python3"
  },
  "language_info": {
   "codemirror_mode": {
    "name": "ipython",
    "version": 3
   },
   "file_extension": ".py",
   "mimetype": "text/x-python",
   "name": "python",
   "nbconvert_exporter": "python",
   "pygments_lexer": "ipython3",
   "version": "3.6.3"
  }
 },
 "nbformat": 4,
 "nbformat_minor": 2
}

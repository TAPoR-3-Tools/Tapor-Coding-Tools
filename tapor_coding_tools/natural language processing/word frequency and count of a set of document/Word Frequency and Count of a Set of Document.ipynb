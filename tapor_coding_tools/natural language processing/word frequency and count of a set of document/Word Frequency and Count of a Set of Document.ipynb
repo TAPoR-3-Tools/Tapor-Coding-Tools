{
 "cells": [
  {
   "cell_type": "markdown",
   "metadata": {},
   "source": [
    "# Word Frequency and Count of a Set of Documents\n",
    "\n",
    "In this notebook we will get the word frequency and count of a set of documents and store their results into a panda dataframe. The corpus we will be using is a set of novels by Charles Dickens, retrieved from Project Gutenberg. https://www.gutenberg.org/\n",
    "\n",
    "## Libraries and Resources used\n",
    "\n",
    "-  Python 3\n",
    "-  panda\n",
    "-  nltk\n",
    "\n",
    "## Note:\n",
    "\n",
    "For installation of the necessary resources and libraries, please refer to their respective home pages for installation steps for your operation system.\n",
    "\n",
    "Also, the novels have some cleaning already done to them. This involes removing the additional notes made by Gutenberg (inlcuding trademarks, notes about the book, branding) from the start and end of each novel.\n",
    "\n",
    "Written in February 2017"
   ]
  },
  {
   "cell_type": "code",
<<<<<<< HEAD
   "execution_count": 1,
=======
   "execution_count": 4,
>>>>>>> upstream/master
   "metadata": {
    "collapsed": true
   },
   "outputs": [],
   "source": [
    "# Import required libraries\n",
    "import nltk\n",
    "import os\n",
    "import pandas as pd\n",
    "import re"
   ]
  },
  {
   "cell_type": "markdown",
   "metadata": {},
   "source": [
    "# Reading the Text\n",
    "\n",
    "The first step is to collect the names of each novel and their content. This is done by going through all the texts in the \"Novels\" folder. It is important to note that the order in which we save both the novel's content and name is synchronized."
   ]
  },
  {
   "cell_type": "code",
<<<<<<< HEAD
   "execution_count": 2,
   "metadata": {
    "collapsed": true
   },
=======
   "execution_count": 5,
   "metadata": {},
>>>>>>> upstream/master
   "outputs": [],
   "source": [
    "# Set path to the file with novels\n",
    "path = \"./Novels\"\n",
    "\n",
    "# Save all the titles of the texts\n",
    "textName = []\n",
    "\n",
    "# Save all the content of the texts\n",
    "textContent = []\n",
    "\n",
    "# Go to the directory with all the text files\n",
    "for filename in os.listdir(path):\n",
    "    \n",
    "    # Add the file name and remove the file type (in this case \".txt\")\n",
    "    textName.append(filename[:-4])\n",
    "    \n",
    "    # Open each file and add all the content \n",
    "    with open(path + '/' + filename, encoding=\"utf-8\", mode=\"r\") as file:\n",
    "         fileContent = file.read()\n",
    "\n",
    "    # Add the content of the file\n",
    "    textContent.append(fileContent)"
   ]
  },
  {
   "cell_type": "markdown",
   "metadata": {},
   "source": [
    "## Checkpoint\n",
    "\n",
    "This is just a double check to ensure we have an equal amount of titles to content."
   ]
  },
  {
   "cell_type": "code",
<<<<<<< HEAD
   "execution_count": 3,
=======
   "execution_count": 6,
>>>>>>> upstream/master
   "metadata": {},
   "outputs": [
    {
     "name": "stdout",
     "output_type": "stream",
     "text": [
      "The amount of text titles matches the amount of text content\n"
     ]
    }
   ],
   "source": [
    "#Check the amount of text being analysed equals the amount of text titles we recorded\n",
    "if len(textName) == len(textContent):\n",
    "    print(\"The amount of text titles matches the amount of text content\")\n",
    "else:\n",
    "    print(\"Amount of content and titles do not match\")"
   ]
  },
  {
   "cell_type": "markdown",
   "metadata": {},
   "source": [
    "## Defining Cleaning Function\n",
    "\n",
    "We are going to declare a helper function to help tokenize and remove punctuation from the text. \n",
    "\n",
    "### Note:\n",
    "\n",
    "We are not going to remove stopwords or do any alteration to the text outside of removing punctuation/numbers and making all words lowercase."
   ]
  },
  {
   "cell_type": "code",
<<<<<<< HEAD
   "execution_count": 4,
=======
   "execution_count": 7,
>>>>>>> upstream/master
   "metadata": {
    "collapsed": true
   },
   "outputs": [],
   "source": [
    "# Define tokenize function\n",
    "def tokenize_Text(text):\n",
    "    tokens = nltk.word_tokenize(text.lower())\n",
    "    # Insert only words\n",
    "    tokens = [word for word in tokens if word[0].isalpha()]\n",
    "    return tokens"
   ]
  },
  {
   "cell_type": "markdown",
   "metadata": {},
   "source": [
    "## Cleaning the Text\n",
    "\n",
    "Now that we have all the text and our helper function declared we can tokenize the text."
   ]
  },
  {
   "cell_type": "code",
<<<<<<< HEAD
   "execution_count": 5,
=======
   "execution_count": 8,
>>>>>>> upstream/master
   "metadata": {
    "collapsed": true
   },
   "outputs": [],
   "source": [
    "# List to hold the results\n",
    "text_tokenized = []\n",
    "\n",
    "# Iterate through all the text\n",
    "for novel in textContent:\n",
    "    # Clean the text\n",
    "    text_tokenized.append(tokenize_Text(novel))\n"
   ]
  },
  {
   "cell_type": "markdown",
   "metadata": {},
   "source": [
    "# Getting Word Frequency\n",
    "\n",
    "Now that we have all the words tokenized and cleaned we will create a panda dataframe that contains all the information."
   ]
  },
  {
   "cell_type": "code",
<<<<<<< HEAD
   "execution_count": 6,
=======
   "execution_count": 9,
>>>>>>> upstream/master
   "metadata": {
    "collapsed": true
   },
   "outputs": [],
   "source": [
    "# Create a list to store all the results\n",
    "wordFrequencyList = []\n",
    "\n",
    "# For novel get the word frequency\n",
    "for novel in text_tokenized:\n",
    "    wordFrequencyList.append(nltk.FreqDist(novel))"
   ]
  },
  {
   "cell_type": "markdown",
   "metadata": {},
   "source": [
    "## Creating the Panda Dataframe\n",
    "\n",
    "We now have all the frequencies of all the text, and will insert them into a panda dataframe."
   ]
  },
  {
   "cell_type": "code",
<<<<<<< HEAD
   "execution_count": 54,
=======
   "execution_count": 10,
>>>>>>> upstream/master
   "metadata": {
    "collapsed": true
   },
   "outputs": [],
   "source": [
    "# Initalize a new panda dataframe for each of the novels\n",
    "df_1 = pd.DataFrame(wordFrequencyList[0], index=[textName[0]])\n",
    "df_2 = pd.DataFrame(wordFrequencyList[1], index=[textName[1]])\n",
    "df_3 = pd.DataFrame(wordFrequencyList[2], index=[textName[2]])\n",
    "\n",
    "# Combine all the dataframes together \n",
    "wordFrequencydf = pd.concat([df_1,df_2,df_3], axis=0)\n",
    "\n",
    "# Replace all Nan with 0\n",
    "wordFrequencydf.fillna(0, inplace=True)"
   ]
  },
  {
   "cell_type": "code",
   "execution_count": 11,
   "metadata": {},
   "outputs": [
    {
     "data": {
      "text/html": [
       "<div>\n",
       "<style>\n",
       "    .dataframe thead tr:only-child th {\n",
       "        text-align: right;\n",
       "    }\n",
       "\n",
       "    .dataframe thead th {\n",
       "        text-align: left;\n",
       "    }\n",
       "\n",
       "    .dataframe tbody tr th {\n",
       "        vertical-align: top;\n",
       "    }\n",
       "</style>\n",
       "<table border=\"1\" class=\"dataframe\">\n",
       "  <thead>\n",
       "    <tr style=\"text-align: right;\">\n",
       "      <th></th>\n",
       "      <th>a</th>\n",
       "      <th>a-a-a-business</th>\n",
       "      <th>a-a-matter</th>\n",
       "      <th>a-bed</th>\n",
       "      <th>a-blushing</th>\n",
       "      <th>a-breakfasting</th>\n",
       "      <th>a-buzz</th>\n",
       "      <th>a-coming</th>\n",
       "      <th>a-doin</th>\n",
       "      <th>a-doing</th>\n",
       "      <th>...</th>\n",
       "      <th>yourself.</th>\n",
       "      <th>yourselves</th>\n",
       "      <th>youth</th>\n",
       "      <th>youthful</th>\n",
       "      <th>youthfulness.</th>\n",
       "      <th>youths</th>\n",
       "      <th>z</th>\n",
       "      <th>zeal</th>\n",
       "      <th>zealous</th>\n",
       "      <th>zenith</th>\n",
       "    </tr>\n",
       "  </thead>\n",
       "  <tbody>\n",
       "    <tr>\n",
       "      <th>A Christmas Carol</th>\n",
       "      <td>700</td>\n",
       "      <td>0.0</td>\n",
       "      <td>0.0</td>\n",
       "      <td>0.0</td>\n",
       "      <td>0.0</td>\n",
       "      <td>0.0</td>\n",
       "      <td>0.0</td>\n",
       "      <td>0.0</td>\n",
       "      <td>0.0</td>\n",
       "      <td>0.0</td>\n",
       "      <td>...</td>\n",
       "      <td>0.0</td>\n",
       "      <td>0.0</td>\n",
       "      <td>1</td>\n",
       "      <td>0.0</td>\n",
       "      <td>0.0</td>\n",
       "      <td>0.0</td>\n",
       "      <td>0.0</td>\n",
       "      <td>1.0</td>\n",
       "      <td>0.0</td>\n",
       "      <td>0.0</td>\n",
       "    </tr>\n",
       "    <tr>\n",
       "      <th>A Tale of Two Cities</th>\n",
       "      <td>2944</td>\n",
       "      <td>1.0</td>\n",
       "      <td>1.0</td>\n",
       "      <td>0.0</td>\n",
       "      <td>0.0</td>\n",
       "      <td>0.0</td>\n",
       "      <td>1.0</td>\n",
       "      <td>0.0</td>\n",
       "      <td>0.0</td>\n",
       "      <td>0.0</td>\n",
       "      <td>...</td>\n",
       "      <td>2.0</td>\n",
       "      <td>3.0</td>\n",
       "      <td>9</td>\n",
       "      <td>3.0</td>\n",
       "      <td>1.0</td>\n",
       "      <td>1.0</td>\n",
       "      <td>0.0</td>\n",
       "      <td>0.0</td>\n",
       "      <td>2.0</td>\n",
       "      <td>0.0</td>\n",
       "    </tr>\n",
       "    <tr>\n",
       "      <th>Oliver Twist</th>\n",
       "      <td>3702</td>\n",
       "      <td>0.0</td>\n",
       "      <td>0.0</td>\n",
       "      <td>1.0</td>\n",
       "      <td>1.0</td>\n",
       "      <td>1.0</td>\n",
       "      <td>0.0</td>\n",
       "      <td>1.0</td>\n",
       "      <td>1.0</td>\n",
       "      <td>1.0</td>\n",
       "      <td>...</td>\n",
       "      <td>0.0</td>\n",
       "      <td>3.0</td>\n",
       "      <td>8</td>\n",
       "      <td>6.0</td>\n",
       "      <td>0.0</td>\n",
       "      <td>1.0</td>\n",
       "      <td>1.0</td>\n",
       "      <td>0.0</td>\n",
       "      <td>2.0</td>\n",
       "      <td>1.0</td>\n",
       "    </tr>\n",
       "  </tbody>\n",
       "</table>\n",
       "<p>3 rows × 16130 columns</p>\n",
       "</div>"
      ],
      "text/plain": [
       "                         a  a-a-a-business  a-a-matter  a-bed  a-blushing  \\\n",
       "A Christmas Carol      700             0.0         0.0    0.0         0.0   \n",
       "A Tale of Two Cities  2944             1.0         1.0    0.0         0.0   \n",
       "Oliver Twist          3702             0.0         0.0    1.0         1.0   \n",
       "\n",
       "                      a-breakfasting  a-buzz  a-coming  a-doin  a-doing  \\\n",
       "A Christmas Carol                0.0     0.0       0.0     0.0      0.0   \n",
       "A Tale of Two Cities             0.0     1.0       0.0     0.0      0.0   \n",
       "Oliver Twist                     1.0     0.0       1.0     1.0      1.0   \n",
       "\n",
       "                       ...    yourself.  yourselves  youth  youthful  \\\n",
       "A Christmas Carol      ...          0.0         0.0      1       0.0   \n",
       "A Tale of Two Cities   ...          2.0         3.0      9       3.0   \n",
       "Oliver Twist           ...          0.0         3.0      8       6.0   \n",
       "\n",
       "                      youthfulness.  youths    z  zeal  zealous  zenith  \n",
       "A Christmas Carol               0.0     0.0  0.0   1.0      0.0     0.0  \n",
       "A Tale of Two Cities            1.0     1.0  0.0   0.0      2.0     0.0  \n",
       "Oliver Twist                    0.0     1.0  1.0   0.0      2.0     1.0  \n",
       "\n",
       "[3 rows x 16130 columns]"
      ]
     },
     "execution_count": 11,
     "metadata": {},
     "output_type": "execute_result"
    }
   ],
   "source": [
    "# Displaying the dataframe\n",
    "wordFrequencydf"
   ]
  },
  {
   "cell_type": "markdown",
   "metadata": {},
   "source": [
    "# Percent Count\n",
    "\n",
    "Now that we have a panda dataframe with the frequency of each word, we will turn these frequencies into a percent. To do this we will create a new dataframe to host the new values."
   ]
  },
  {
   "cell_type": "code",
   "execution_count": 12,
   "metadata": {},
   "outputs": [
    {
     "data": {
      "text/html": [
       "<div>\n",
       "<style>\n",
       "    .dataframe thead tr:only-child th {\n",
       "        text-align: right;\n",
       "    }\n",
       "\n",
       "    .dataframe thead th {\n",
       "        text-align: left;\n",
       "    }\n",
       "\n",
       "    .dataframe tbody tr th {\n",
       "        vertical-align: top;\n",
       "    }\n",
       "</style>\n",
       "<table border=\"1\" class=\"dataframe\">\n",
       "  <thead>\n",
       "    <tr style=\"text-align: right;\">\n",
       "      <th></th>\n",
       "      <th>a</th>\n",
       "      <th>a-a-a-business</th>\n",
       "      <th>a-a-matter</th>\n",
       "      <th>a-bed</th>\n",
       "      <th>a-blushing</th>\n",
       "      <th>a-breakfasting</th>\n",
       "      <th>a-buzz</th>\n",
       "      <th>a-coming</th>\n",
       "      <th>a-doin</th>\n",
       "      <th>a-doing</th>\n",
       "      <th>...</th>\n",
       "      <th>yourself.</th>\n",
       "      <th>yourselves</th>\n",
       "      <th>youth</th>\n",
       "      <th>youthful</th>\n",
       "      <th>youthfulness.</th>\n",
       "      <th>youths</th>\n",
       "      <th>z</th>\n",
       "      <th>zeal</th>\n",
       "      <th>zealous</th>\n",
       "      <th>zenith</th>\n",
       "    </tr>\n",
       "  </thead>\n",
       "  <tbody>\n",
       "    <tr>\n",
       "      <th>A Christmas Carol</th>\n",
       "      <td>0.024402</td>\n",
       "      <td>0.000000</td>\n",
       "      <td>0.000000</td>\n",
       "      <td>0.000000</td>\n",
       "      <td>0.000000</td>\n",
       "      <td>0.000000</td>\n",
       "      <td>0.000000</td>\n",
       "      <td>0.000000</td>\n",
       "      <td>0.000000</td>\n",
       "      <td>0.000000</td>\n",
       "      <td>...</td>\n",
       "      <td>0.000000</td>\n",
       "      <td>0.000000</td>\n",
       "      <td>0.000035</td>\n",
       "      <td>0.000000</td>\n",
       "      <td>0.000000</td>\n",
       "      <td>0.000000</td>\n",
       "      <td>0.000000</td>\n",
       "      <td>0.000035</td>\n",
       "      <td>0.000000</td>\n",
       "      <td>0.000000</td>\n",
       "    </tr>\n",
       "    <tr>\n",
       "      <th>A Tale of Two Cities</th>\n",
       "      <td>0.021424</td>\n",
       "      <td>0.000007</td>\n",
       "      <td>0.000007</td>\n",
       "      <td>0.000000</td>\n",
       "      <td>0.000000</td>\n",
       "      <td>0.000000</td>\n",
       "      <td>0.000007</td>\n",
       "      <td>0.000000</td>\n",
       "      <td>0.000000</td>\n",
       "      <td>0.000000</td>\n",
       "      <td>...</td>\n",
       "      <td>0.000015</td>\n",
       "      <td>0.000022</td>\n",
       "      <td>0.000065</td>\n",
       "      <td>0.000022</td>\n",
       "      <td>0.000007</td>\n",
       "      <td>0.000007</td>\n",
       "      <td>0.000000</td>\n",
       "      <td>0.000000</td>\n",
       "      <td>0.000015</td>\n",
       "      <td>0.000000</td>\n",
       "    </tr>\n",
       "    <tr>\n",
       "      <th>Oliver Twist</th>\n",
       "      <td>0.023927</td>\n",
       "      <td>0.000000</td>\n",
       "      <td>0.000000</td>\n",
       "      <td>0.000006</td>\n",
       "      <td>0.000006</td>\n",
       "      <td>0.000006</td>\n",
       "      <td>0.000000</td>\n",
       "      <td>0.000006</td>\n",
       "      <td>0.000006</td>\n",
       "      <td>0.000006</td>\n",
       "      <td>...</td>\n",
       "      <td>0.000000</td>\n",
       "      <td>0.000019</td>\n",
       "      <td>0.000052</td>\n",
       "      <td>0.000039</td>\n",
       "      <td>0.000000</td>\n",
       "      <td>0.000006</td>\n",
       "      <td>0.000006</td>\n",
       "      <td>0.000000</td>\n",
       "      <td>0.000013</td>\n",
       "      <td>0.000006</td>\n",
       "    </tr>\n",
       "  </tbody>\n",
       "</table>\n",
       "<p>3 rows × 16130 columns</p>\n",
       "</div>"
      ],
      "text/plain": [
       "                             a  a-a-a-business  a-a-matter     a-bed  \\\n",
       "A Christmas Carol     0.024402        0.000000    0.000000  0.000000   \n",
       "A Tale of Two Cities  0.021424        0.000007    0.000007  0.000000   \n",
       "Oliver Twist          0.023927        0.000000    0.000000  0.000006   \n",
       "\n",
       "                      a-blushing  a-breakfasting    a-buzz  a-coming  \\\n",
       "A Christmas Carol       0.000000        0.000000  0.000000  0.000000   \n",
       "A Tale of Two Cities    0.000000        0.000000  0.000007  0.000000   \n",
       "Oliver Twist            0.000006        0.000006  0.000000  0.000006   \n",
       "\n",
       "                        a-doin   a-doing    ...     yourself.  yourselves  \\\n",
       "A Christmas Carol     0.000000  0.000000    ...      0.000000    0.000000   \n",
       "A Tale of Two Cities  0.000000  0.000000    ...      0.000015    0.000022   \n",
       "Oliver Twist          0.000006  0.000006    ...      0.000000    0.000019   \n",
       "\n",
       "                         youth  youthful  youthfulness.    youths         z  \\\n",
       "A Christmas Carol     0.000035  0.000000       0.000000  0.000000  0.000000   \n",
       "A Tale of Two Cities  0.000065  0.000022       0.000007  0.000007  0.000000   \n",
       "Oliver Twist          0.000052  0.000039       0.000000  0.000006  0.000006   \n",
       "\n",
       "                          zeal   zealous    zenith  \n",
       "A Christmas Carol     0.000035  0.000000  0.000000  \n",
       "A Tale of Two Cities  0.000000  0.000015  0.000000  \n",
       "Oliver Twist          0.000000  0.000013  0.000006  \n",
       "\n",
       "[3 rows x 16130 columns]"
      ]
     },
     "execution_count": 12,
     "metadata": {},
     "output_type": "execute_result"
    }
   ],
   "source": [
    "# First get the total word count for each row\n",
    "wordCountList = list(wordFrequencydf.sum(axis=1)) \n",
    "\n",
    "# Create a new dataframe for the new values\n",
    "wordPercentdf = wordFrequencydf.copy()\n",
    "\n",
    "# Calcuate the percent of each row in the dataframe\n",
    "wordPercentdf[0:1] = wordPercentdf[0:1].apply(lambda x: x / wordCountList[0],axis=1)\n",
    "wordPercentdf[1:2] = wordPercentdf[1:2].apply(lambda x: x / wordCountList[1],axis=1)\n",
    "wordPercentdf[2:3] = wordPercentdf[2:3].apply(lambda x: x / wordCountList[2],axis=1)\n",
    "\n",
    "# Display the dataframe\n",
    "wordPercentdf"
   ]
  },
  {
   "cell_type": "markdown",
   "metadata": {},
   "source": [
    "## Conclusion\n",
    "\n",
    "In this notebook we looked at how to calculate the word frequency and percentage of each word in a set of documents. "
   ]
  }
 ],
 "metadata": {
  "kernelspec": {
   "display_name": "Python 3",
   "language": "python",
   "name": "python3"
  },
  "language_info": {
   "codemirror_mode": {
    "name": "ipython",
    "version": 3
   },
   "file_extension": ".py",
   "mimetype": "text/x-python",
   "name": "python",
   "nbconvert_exporter": "python",
   "pygments_lexer": "ipython3",
   "version": "3.6.3"
  }
 },
 "nbformat": 4,
 "nbformat_minor": 2
}

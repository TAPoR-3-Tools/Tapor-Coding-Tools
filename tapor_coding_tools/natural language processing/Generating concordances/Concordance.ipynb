{
 "cells": [
  {
   "cell_type": "markdown",
   "metadata": {},
   "source": [
    "## Generating Concordances\n",
    "\n",
    "This notebook imports contents of a text file, tokenizes the text and uses [regular expression](https://docs.python.org/3/library/re.html) to create concordances."
   ]
  },
  {
   "cell_type": "code",
   "execution_count": 1,
   "metadata": {},
   "outputs": [
    {
     "name": "stdout",
     "output_type": "stream",
     "text": [
      "\n",
      "Emma Woodhouse, handsome, clever, and rich, with a comfortable home\n",
      "and happy disposition, seemed to unite some of the best blessings of\n",
      "existence; and had lived nearly twenty-one years in the world with very\n",
      "little to distress or vex her.\n",
      "\n",
      "She was the youngest of the two daughters of a most affectionate,\n",
      "indulgent father; and had, in consequence of her sister’s marriage, been\n",
      "mistress of his house from a very early period. Her mother had died\n",
      "too long ago for her to have more than an indistinct remembrance of\n",
      "her caresses; and her place had been supplied by an excellent woman as\n",
      "governess, who had fallen little short of a mother in affection.\n",
      "\n",
      "Sixteen years had Miss Taylor been in Mr. Woodhouse’s family, less as a\n",
      "governess than a friend, very fond of both daughters, but particularly\n",
      "of Emma.\n",
      "Miss Taylor had ceased to hold the nominal office of governess, the\n",
      "mildness of her temper had hardly allowed her to impose any restraint;\n",
      "and the shadow of authority being now long passed away, they had been\n",
      "living together as friend and friend very mutually attached, and Emma\n",
      "doing just what she liked; highly esteeming Miss Taylor’s judgment, but\n",
      "directed chiefly by her own.\n"
     ]
    }
   ],
   "source": [
    "with open(\"Emma_Austen.txt\") as file:\n",
    "    txt = file.read()\n",
    "print(txt)"
   ]
  },
  {
   "cell_type": "markdown",
   "metadata": {},
   "source": [
    "### Tokenization\n",
    "Now we tokenize the text producing a list called \"list_of_tokens\" and check the first words. This eliminates punctuations and converts each word to lowercase."
   ]
  },
  {
   "cell_type": "code",
   "execution_count": 2,
   "metadata": {},
   "outputs": [
    {
     "name": "stdout",
     "output_type": "stream",
     "text": [
      "['emma', 'woodhouse', 'handsome', 'clever', 'and', 'rich', 'with', 'a', 'comfortable', 'home']\n"
     ]
    }
   ],
   "source": [
    "import re\n",
    "list_of_tokens = re.findall(r'\\b\\w[\\w-]*\\b', txt.lower())\n",
    "\n",
    "# print the first 10 words\n",
    "print(list_of_tokens[:10])"
   ]
  },
  {
   "cell_type": "markdown",
   "metadata": {},
   "source": [
    "### Main function\n",
    "\n",
    "This is the function to create concordances and return a list with results"
   ]
  },
  {
   "cell_type": "code",
   "execution_count": 3,
   "metadata": {
    "collapsed": true
   },
   "outputs": [],
   "source": [
    "def make_conc(word_to_conc, list_to_find_in, context_to_use, conc_list):\n",
    "    \"\"\"Creates a concordance as a list given a word / phrase\n",
    "    word_to_conc - The word to find in the text\n",
    "    list_to_find_in - The tokenized text to find the word\n",
    "    context_to_use - Number of words to show before and after the keyword.\n",
    "    conc_list - The container of concordances\n",
    "    \"\"\"\n",
    "    end = len(list_to_find_in) # get length of the text\n",
    "    for location in range(end):\n",
    "        if list_to_find_in[location] == word_to_conc:\n",
    "            # Here we check whether we are at the very beginning or end\n",
    "            if (location - context_to_use) < 0:\n",
    "                begin_conc = 0 # cannot get any word appearing before\n",
    "            else:\n",
    "                begin_conc = location - context_to_use\n",
    "                \n",
    "            if (location + context_to_use) > end:\n",
    "                end_conc = end # cannot get any words after keyword\n",
    "            else:\n",
    "                end_conc = location + context_to_use + 1\n",
    "            \n",
    "            # extract from the text from the given start and end points\n",
    "            # of the tokens\n",
    "            the_context = (list_to_find_in[begin_conc:end_conc])\n",
    "            conc_line = ' '.join(the_context)\n",
    "            conc_list.append(\"{}: {}\".format(location, conc_line))"
   ]
  },
  {
   "cell_type": "markdown",
   "metadata": {},
   "source": [
    "### Call the main function\n",
    "\n",
    "We define and provide arguments for the function "
   ]
  },
  {
   "cell_type": "code",
   "execution_count": 4,
   "metadata": {},
   "outputs": [
    {
     "data": {
      "text/plain": [
       "['0: emma woodhouse handsome clever and rich',\n",
       " '140: both daughters but particularly of emma miss taylor had ceased to',\n",
       " '188: friend very mutually attached and emma doing just what she liked']"
      ]
     },
     "execution_count": 4,
     "metadata": {},
     "output_type": "execute_result"
    }
   ],
   "source": [
    "# set a word to find\n",
    "word_to_find = 'emma'\n",
    "\n",
    "# set the context of words on either side to grab\n",
    "context = 5\n",
    "\n",
    "# create a list to store the concordance\n",
    "conc_list = []\n",
    "\n",
    "make_conc(word_to_find, list_of_tokens, context, conc_list)\n",
    "conc_list[-5:] # get the last 5 items of the concordance list"
   ]
  },
  {
   "cell_type": "markdown",
   "metadata": {},
   "source": [
    "The format of the above results starts with a number which shows the location of the keyword. In this case, the first result **\"emma\"** was actually found the very beginning, position zero.\n",
    "\n",
    "The word \"emma\" appears only 3 times in the text, so we got three lines of concordance.  \n",
    "\n",
    "**Reference:**  \n",
    "https://github.com/sgsinclair/alta/blob/2eb10ab6787d032e317ce883fb0bc3427406333d/ipynb/utilities/Concordances.ipynb"
   ]
  },
  {
   "cell_type": "code",
   "execution_count": null,
   "metadata": {
    "collapsed": true
   },
   "outputs": [],
   "source": []
  }
 ],
 "metadata": {
  "kernelspec": {
   "display_name": "Python 3",
   "language": "python",
   "name": "python3"
  },
  "language_info": {
   "codemirror_mode": {
    "name": "ipython",
    "version": 3
   },
   "file_extension": ".py",
   "mimetype": "text/x-python",
   "name": "python",
   "nbconvert_exporter": "python",
   "pygments_lexer": "ipython3",
   "version": "3.6.1"
  }
 },
 "nbformat": 4,
 "nbformat_minor": 2
}

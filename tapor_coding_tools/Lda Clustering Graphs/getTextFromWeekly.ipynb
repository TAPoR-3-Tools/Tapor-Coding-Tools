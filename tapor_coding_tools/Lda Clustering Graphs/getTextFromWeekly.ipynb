{
 "cells": [
  {
   "cell_type": "code",
   "execution_count": 1,
   "outputs": [],
   "source": [
    "import pathlib\n",
    "import pandas as pd\n",
    "\n",
    "input_folder = \"covid/data/weekly_raw\"\n",
    "output_folder = \"covid/data/weekly_text\"\n",
    "\n",
    "\n",
    "for i in pathlib.Path(input_folder).glob(\"*.csv\"):\n",
    "    df = pd.read_csv(i)\n",
    "    dfFiltered = df[pd.isnull(df[\"Is a Retweet of\"])]\n",
    "\n",
    "    name = i.parts[-1].split(\".\")[0] + \".txt\"\n",
    "\n",
    "    with open(f\"{output_folder}/{name}\", \"w+\") as f:\n",
    "        for i in dfFiltered[\"Tweet Text\"]:\n",
    "            print(i, file=f)"
   ],
   "metadata": {
    "collapsed": false,
    "pycharm": {
     "name": "#%%\n"
    }
   }
  },
  {
   "cell_type": "code",
   "execution_count": null,
   "outputs": [],
   "source": [],
   "metadata": {
    "collapsed": false,
    "pycharm": {
     "name": "#%%\n"
    }
   }
  }
 ],
 "metadata": {
  "kernelspec": {
   "display_name": "Python 3",
   "language": "python",
   "name": "python3"
  },
  "language_info": {
   "codemirror_mode": {
    "name": "ipython",
    "version": 3
   },
   "file_extension": ".py",
   "mimetype": "text/x-python",
   "name": "python",
   "nbconvert_exporter": "python",
   "pygments_lexer": "ipython3",
   "version": "3.8.2"
  }
 },
 "nbformat": 4,
 "nbformat_minor": 4
}
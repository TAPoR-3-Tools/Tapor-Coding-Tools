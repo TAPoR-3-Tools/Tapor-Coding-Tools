{
 "cells": [
  {
   "cell_type": "markdown",
   "metadata": {},
   "source": [
    "## Topic modeling\n"
   ]
  },
  {
   "cell_type": "markdown",
   "metadata": {},
   "source": [
    "### Getting text\n",
    "In this sample, texts are three ebooks with different topics from Guternburg:\n",
    "1. Adrift in New York (children fiction)\n",
    "2. Beethoven (music)\n",
    "3. Sandwiches (cook)"
   ]
  },
  {
   "cell_type": "code",
   "execution_count": 65,
   "metadata": {},
   "outputs": [
    {
     "name": "stdout",
     "output_type": "stream",
     "text": [
      "7\n"
     ]
    }
   ],
   "source": [
    "\n",
    "# define a function to get .txt files in a folder\n",
    "import codecs\n",
    "from os import listdir\n",
    "def list_textfiles(directory):\n",
    "    \"Return a list of filenames ending in '.txt' in DIRECTORY.\"\n",
    "    textfiles = []\n",
    "    for filename in listdir(directory):\n",
    "        if filename.endswith(\".txt\"):\n",
    "            textfiles.append(directory + \"/\" + filename)\n",
    "    return textfiles   \n",
    "\n",
    "# define a function to read the text in a .txt file\n",
    "\n",
    "def read_txt(filename):\n",
    "    try:\n",
    "        f = codecs.open(filename,'r','utf-8') #open(filename,'r')\n",
    "        text = f.read()\n",
    "    finally:\n",
    "        if f:\n",
    "            f.close()\n",
    "    return text\n",
    "\n",
    "#import harry potter textfiles\n",
    "filenames = list_textfiles('HP')\n",
    "raw_texts = []\n",
    "for n in filenames:\n",
    "    raw_texts.append(read_txt(n))\n",
    "print len(raw_texts)"
   ]
  },
  {
   "cell_type": "markdown",
   "metadata": {},
   "source": [
    "### Preprocessing\n",
    "- remove stopwords\n",
    "- remove puctuation\n",
    "- lemmatize"
   ]
  },
  {
   "cell_type": "code",
   "execution_count": 66,
   "metadata": {
    "collapsed": true
   },
   "outputs": [],
   "source": [
    "\n",
    "from nltk.corpus import stopwords \n",
    "from nltk.stem.wordnet import WordNetLemmatizer\n",
    "from nltk.tokenize import word_tokenize\n",
    "import string\n",
    "\n",
    "\n",
    "clean_texts = []\n",
    "for text in raw_texts:\n",
    "    # tokenize\n",
    "    tok = \" \".join(word_tokenize(text))\n",
    "   \n",
    "    #remove punctuation\n",
    "    punctuation = set(string.punctuation) \n",
    "    re_punc = \"\".join(i for i in tok if i not in punctuation)\n",
    "    \n",
    "    #remove stopwords\n",
    "    re_sw = \" \".join([i for i in re_punc.lower().split() if i not in stopwords.words('english')])\n",
    "    \n",
    "    #lemmatization\n",
    "    lemmatize = WordNetLemmatizer()\n",
    "    le = \" \".join(lemmatize.lemmatize(i) for i in re_sw.split())\n",
    "    \n",
    "    clean_texts.append(le)\n",
    "\n"
   ]
  },
  {
   "cell_type": "code",
   "execution_count": 67,
   "metadata": {
    "collapsed": true
   },
   "outputs": [],
   "source": [
    "#vectorize text\n",
    "\n",
    "from sklearn.feature_extraction.text import CountVectorizer  \n",
    "n_features = 1000\n",
    "tf_vectorizer = CountVectorizer(min_df = 2,\n",
    "                                strip_accents = 'unicode',\n",
    "                                max_features=n_features,\n",
    "                                stop_words='english')\n",
    "tf = tf_vectorizer.fit_transform(clean_texts)\n"
   ]
  },
  {
   "cell_type": "markdown",
   "metadata": {},
   "source": [
    "### LDA topic modeling"
   ]
  },
  {
   "cell_type": "code",
   "execution_count": 68,
   "metadata": {},
   "outputs": [
    {
     "name": "stdout",
     "output_type": "stream",
     "text": [
      "[[  7.87193335e-06   7.87369249e-06   8.06729861e-06   9.99290094e-01\n",
      "    6.86092759e-04]\n",
      " [  7.11656199e-06   7.11824747e-06   7.29374521e-06   9.96424926e-01\n",
      "    3.55354498e-03]\n",
      " [  5.68256669e-06   5.68366493e-06   5.85592382e-05   9.98097155e-01\n",
      "    1.83291943e-03]\n",
      " [  3.22608675e-06   3.22680054e-06   2.19777747e-04   6.14371954e-02\n",
      "    9.38336574e-01]\n",
      " [  2.45571321e-06   2.45626786e-06   9.85956933e-01   1.08192770e-02\n",
      "    3.21887795e-03]\n",
      " [  3.88224397e-06   3.88306597e-06   2.26412518e-01   7.64773370e-01\n",
      "    8.80634643e-03]\n",
      " [  3.39798237e-06   3.39870217e-06   9.47496093e-01   4.30811361e-02\n",
      "    9.41597420e-03]]\n"
     ]
    }
   ],
   "source": [
    "from sklearn.decomposition import LatentDirichletAllocation\n",
    "n_topic = 5\n",
    "lda = LatentDirichletAllocation(n_components = n_topic, \n",
    "                                learning_method='online',\n",
    "                                max_iter=50,\n",
    "                                random_state=0)\n",
    "doctopic = lda.fit(tf)\n",
    "\n",
    "# topic_distribution is a distribution of the topics in each text\n",
    "topic_distribution = lda.transform(tf)\n",
    "\n",
    "print topic_distribution # not normalized (sum of each row is not 1)\n",
    "\n"
   ]
  },
  {
   "cell_type": "markdown",
   "metadata": {},
   "source": [
    "- The list above is a probability of topic distrubition in the three texts.\n",
    "\n",
    "- Next we will try to visualize the topic distribution in a heatmap."
   ]
  },
  {
   "cell_type": "code",
   "execution_count": 69,
   "metadata": {},
   "outputs": [
    {
     "data": {
      "text/plain": [
       "<matplotlib.figure.Figure at 0x11494c050>"
      ]
     },
     "metadata": {},
     "output_type": "display_data"
    },
    {
     "data": {
      "image/png": "[encoded data removed]",
      "text/plain": [
       "<matplotlib.figure.Figure at 0x114372210>"
      ]
     },
     "metadata": {},
     "output_type": "display_data"
    }
   ],
   "source": [
    "import matplotlib.ticker as ticker\n",
    "import matplotlib.cm as cm\n",
    "import matplotlib as mpl\n",
    "\n",
    "import matplotlib.pyplot as plt\n",
    "%matplotlib inline\n",
    "\n",
    "flight_matrix = topic_distribution \n",
    "\n",
    "yLabel = ['H1','H2','H3','H4','H5','H6','H7']\n",
    "xLabel = ['topic0','topic1','topic2','topic3','topic4']\n",
    "\n",
    "fig = plt.figure()\n",
    "fig, ax = plt.subplots(1,1, figsize=(6,6))\n",
    "\n",
    "\n",
    "ax.set_xticks(np.arange(len(xLabel)))\n",
    "ax.set_yticks(np.arange(len(yLabel)))\n",
    "\n",
    "ax.set_xticklabels(xLabel)\n",
    "ax.set_yticklabels(yLabel)\n",
    "\n",
    "heatplot = ax.imshow(flight_matrix, cmap='Purples')\n"
   ]
  },
  {
   "cell_type": "code",
   "execution_count": null,
   "metadata": {
    "collapsed": true
   },
   "outputs": [],
   "source": []
  }
 ],
 "metadata": {
  "kernelspec": {
   "display_name": "Python 2",
   "language": "python",
   "name": "python2"
  },
  "language_info": {
   "codemirror_mode": {
    "name": "ipython",
    "version": 2
   },
   "file_extension": ".py",
   "mimetype": "text/x-python",
   "name": "python",
   "nbconvert_exporter": "python",
   "pygments_lexer": "ipython2",
   "version": "2.7.13"
  }
 },
 "nbformat": 4,
 "nbformat_minor": 2
}

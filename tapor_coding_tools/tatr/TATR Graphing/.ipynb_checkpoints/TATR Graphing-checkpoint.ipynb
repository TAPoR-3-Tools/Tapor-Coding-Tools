{
 "cells": [
  {
   "cell_type": "markdown",
   "metadata": {},
   "source": [
    "# TATR: Graphing\n",
    "\n",
    "This notebook is part of a greater series of Juypter Notebook structured around Twitter Tweet analysis. This particular notebook will look at graphing. From saving the resulting graph to organization. This notebook will provide the a framework that can be expanded to suit your needs.\n",
    "\n",
    "Any additional assumptions and clarification will be discussed and declared throughout the notebook.\n",
    "\n",
    "### Note: \n",
    "This notebook will use concepts found in the TATR notebook series\n",
    "\n",
    "Written 2018."
   ]
  },
  {
   "cell_type": "markdown",
   "metadata": {},
   "source": [
    "## Introduction Matplotlib\n",
    "\n",
    "We are going to be using Matplotlib as the core library for graphing our data. It allows you to plot histograms to bar graphs. Therefore it is a powerful library that is well documented and has a large user base. It is because of this reason that this notebook chose to use Matplotlib as its main graphing tool."
   ]
  },
  {
   "cell_type": "markdown",
   "metadata": {},
   "source": [
    "## Import Libraries\n",
    "\n",
    "Now we will import all the Python 3 libraries that will be used in this notebook. You do not need to know all the functionalities of each libraries as some are massive. However any functionalities that is used will be explained as they appear, therefore do not worry too much if you do not recongize the libraries. \n",
    "\n",
    "To import or download the required libraries see the Juypter documentation or the libraries's home page for instruction. \n",
    "\n",
    "### Note: \n",
    "All libraries that are used are available for Anaconda "
   ]
  },
  {
   "cell_type": "code",
   "execution_count": 60,
   "metadata": {
    "collapsed": true
   },
   "outputs": [],
   "source": [
    "# Importing data structure libraries\n",
    "import pandas as pd\n",
    "import numpy as np\n",
    "\n",
    "# Import graphing tools\n",
    "import matplotlib.pyplot as plt\n",
    "import matplotlib.dates as mdates\n",
    "\n",
    "# Ensure that any graphs produced appears in the notebook (Vital)\n",
    "%matplotlib inline"
   ]
  },
  {
   "cell_type": "markdown",
   "metadata": {},
   "source": [
    "## Setting up some dummy data\n",
    "\n",
    "Similar to before, this notebook will create a small set of dummy data to demostrate. This is to ensure that all those using this notebook have the ability to test out its functionality. However we will be making some modification and changes to the one made in the the other notebook.\n",
    "\n",
    "### Dummy Panda Dataframe Structure\n",
    "\n",
    "We are going to create 5 sets of 5 entries each entry will have 3 values (Date, hashtag_count, mention_count). To find out how to generate these values see TATR Tokenization and Extraction. \n",
    "\n",
    "To do so we will used 2 different functions to help create the Date and Retweet count\n",
    "* pd.Timestamp(Some date format) : Which turns the input into a date \n",
    "* np.random.randint(range, how many) : Creates a random integer from 0 to range for the declared amount\n"
   ]
  },
  {
   "cell_type": "code",
   "execution_count": 61,
   "metadata": {},
   "outputs": [
    {
     "data": {
      "text/html": [
       "<div>\n",
       "<style>\n",
       "    .dataframe thead tr:only-child th {\n",
       "        text-align: right;\n",
       "    }\n",
       "\n",
       "    .dataframe thead th {\n",
       "        text-align: left;\n",
       "    }\n",
       "\n",
       "    .dataframe tbody tr th {\n",
       "        vertical-align: top;\n",
       "    }\n",
       "</style>\n",
       "<table border=\"1\" class=\"dataframe\">\n",
       "  <thead>\n",
       "    <tr style=\"text-align: right;\">\n",
       "      <th></th>\n",
       "      <th>Date</th>\n",
       "      <th>hashtag_count</th>\n",
       "      <th>mention_count</th>\n",
       "    </tr>\n",
       "  </thead>\n",
       "  <tbody>\n",
       "    <tr>\n",
       "      <th>0</th>\n",
       "      <td>2018-01-01</td>\n",
       "      <td>5</td>\n",
       "      <td>130</td>\n",
       "    </tr>\n",
       "    <tr>\n",
       "      <th>1</th>\n",
       "      <td>2018-02-01</td>\n",
       "      <td>37</td>\n",
       "      <td>58</td>\n",
       "    </tr>\n",
       "    <tr>\n",
       "      <th>2</th>\n",
       "      <td>2018-03-01</td>\n",
       "      <td>147</td>\n",
       "      <td>148</td>\n",
       "    </tr>\n",
       "    <tr>\n",
       "      <th>3</th>\n",
       "      <td>2018-04-01</td>\n",
       "      <td>145</td>\n",
       "      <td>62</td>\n",
       "    </tr>\n",
       "    <tr>\n",
       "      <th>4</th>\n",
       "      <td>2018-05-01</td>\n",
       "      <td>93</td>\n",
       "      <td>114</td>\n",
       "    </tr>\n",
       "    <tr>\n",
       "      <th>5</th>\n",
       "      <td>2018-01-01</td>\n",
       "      <td>118</td>\n",
       "      <td>95</td>\n",
       "    </tr>\n",
       "    <tr>\n",
       "      <th>6</th>\n",
       "      <td>2018-02-01</td>\n",
       "      <td>0</td>\n",
       "      <td>31</td>\n",
       "    </tr>\n",
       "    <tr>\n",
       "      <th>7</th>\n",
       "      <td>2018-03-01</td>\n",
       "      <td>24</td>\n",
       "      <td>94</td>\n",
       "    </tr>\n",
       "    <tr>\n",
       "      <th>8</th>\n",
       "      <td>2018-04-01</td>\n",
       "      <td>96</td>\n",
       "      <td>148</td>\n",
       "    </tr>\n",
       "    <tr>\n",
       "      <th>9</th>\n",
       "      <td>2018-05-01</td>\n",
       "      <td>143</td>\n",
       "      <td>31</td>\n",
       "    </tr>\n",
       "    <tr>\n",
       "      <th>10</th>\n",
       "      <td>2018-01-01</td>\n",
       "      <td>98</td>\n",
       "      <td>1</td>\n",
       "    </tr>\n",
       "    <tr>\n",
       "      <th>11</th>\n",
       "      <td>2018-02-01</td>\n",
       "      <td>44</td>\n",
       "      <td>21</td>\n",
       "    </tr>\n",
       "    <tr>\n",
       "      <th>12</th>\n",
       "      <td>2018-03-01</td>\n",
       "      <td>61</td>\n",
       "      <td>51</td>\n",
       "    </tr>\n",
       "    <tr>\n",
       "      <th>13</th>\n",
       "      <td>2018-04-01</td>\n",
       "      <td>135</td>\n",
       "      <td>109</td>\n",
       "    </tr>\n",
       "    <tr>\n",
       "      <th>14</th>\n",
       "      <td>2018-05-01</td>\n",
       "      <td>135</td>\n",
       "      <td>91</td>\n",
       "    </tr>\n",
       "    <tr>\n",
       "      <th>15</th>\n",
       "      <td>2018-01-01</td>\n",
       "      <td>69</td>\n",
       "      <td>75</td>\n",
       "    </tr>\n",
       "    <tr>\n",
       "      <th>16</th>\n",
       "      <td>2018-02-01</td>\n",
       "      <td>149</td>\n",
       "      <td>13</td>\n",
       "    </tr>\n",
       "    <tr>\n",
       "      <th>17</th>\n",
       "      <td>2018-03-01</td>\n",
       "      <td>91</td>\n",
       "      <td>64</td>\n",
       "    </tr>\n",
       "    <tr>\n",
       "      <th>18</th>\n",
       "      <td>2018-04-01</td>\n",
       "      <td>142</td>\n",
       "      <td>30</td>\n",
       "    </tr>\n",
       "    <tr>\n",
       "      <th>19</th>\n",
       "      <td>2018-05-01</td>\n",
       "      <td>137</td>\n",
       "      <td>8</td>\n",
       "    </tr>\n",
       "    <tr>\n",
       "      <th>20</th>\n",
       "      <td>2018-01-01</td>\n",
       "      <td>68</td>\n",
       "      <td>115</td>\n",
       "    </tr>\n",
       "    <tr>\n",
       "      <th>21</th>\n",
       "      <td>2018-02-01</td>\n",
       "      <td>45</td>\n",
       "      <td>91</td>\n",
       "    </tr>\n",
       "    <tr>\n",
       "      <th>22</th>\n",
       "      <td>2018-03-01</td>\n",
       "      <td>99</td>\n",
       "      <td>77</td>\n",
       "    </tr>\n",
       "    <tr>\n",
       "      <th>23</th>\n",
       "      <td>2018-04-01</td>\n",
       "      <td>142</td>\n",
       "      <td>113</td>\n",
       "    </tr>\n",
       "    <tr>\n",
       "      <th>24</th>\n",
       "      <td>2018-05-01</td>\n",
       "      <td>27</td>\n",
       "      <td>99</td>\n",
       "    </tr>\n",
       "  </tbody>\n",
       "</table>\n",
       "</div>"
      ],
      "text/plain": [
       "         Date hashtag_count mention_count\n",
       "0  2018-01-01             5           130\n",
       "1  2018-02-01            37            58\n",
       "2  2018-03-01           147           148\n",
       "3  2018-04-01           145            62\n",
       "4  2018-05-01            93           114\n",
       "5  2018-01-01           118            95\n",
       "6  2018-02-01             0            31\n",
       "7  2018-03-01            24            94\n",
       "8  2018-04-01            96           148\n",
       "9  2018-05-01           143            31\n",
       "10 2018-01-01            98             1\n",
       "11 2018-02-01            44            21\n",
       "12 2018-03-01            61            51\n",
       "13 2018-04-01           135           109\n",
       "14 2018-05-01           135            91\n",
       "15 2018-01-01            69            75\n",
       "16 2018-02-01           149            13\n",
       "17 2018-03-01            91            64\n",
       "18 2018-04-01           142            30\n",
       "19 2018-05-01           137             8\n",
       "20 2018-01-01            68           115\n",
       "21 2018-02-01            45            91\n",
       "22 2018-03-01            99            77\n",
       "23 2018-04-01           142           113\n",
       "24 2018-05-01            27            99"
      ]
     },
     "execution_count": 61,
     "metadata": {},
     "output_type": "execute_result"
    }
   ],
   "source": [
    "# Setup empty dataframe\n",
    "DummyDataframe = pd.DataFrame(columns=['Date', 'hashtag'])\n",
    "\n",
    "# Setup 5 different dates\n",
    "dummyDates = [ pd.Timestamp('20180101'),  pd.Timestamp('20180201'),  pd.Timestamp('20180301'),  pd.Timestamp('20180401'),  pd.Timestamp('20180501')]\n",
    "\n",
    "# Create 25 entries\n",
    "for i in range(25):\n",
    "    DummyDataframe.loc[i] = [dummyDates[i % 5], np.random.randint(150), np.random.randint(150)]\n",
    "    \n",
    "# See what the dataframe looks like\n",
    "DummyDataframe"
   ]
  },
  {
   "cell_type": "markdown",
   "metadata": {},
   "source": [
    "Before we move forward we are going to set the dates as the index and sort them by date (To make the data more readable). This is done to just format the data and then afterwards we will group and sum all the values. This section is building off the work done in TATR Panda Dataframe Manipulation. "
   ]
  },
  {
   "cell_type": "code",
   "execution_count": 62,
   "metadata": {
    "collapsed": true
   },
   "outputs": [],
   "source": [
    "# Set the index to date and sort by date\n",
    "DummyDataframe = DummyDataframe.set_index(\"Date\").sort_index()\n",
    "\n",
    "# See what it looks like\n",
    "DummyDataframe = DummyDataframe.groupby(\"Date\").sum()"
   ]
  },
  {
   "cell_type": "markdown",
   "metadata": {},
   "source": [
    "## Graphing Function\n",
    "\n",
    "We are now going to declare two version of the graphing function (which is going to be a line graph). The first will be a basic graph that plots over time. The other one will allow for comparasion between two different values. We will also be adding additional parameters that you can use to save the graph created. Therefore these functions are designed in such a way that allows you to tailor them to your own needs. \n",
    "\n",
    "In this notebook we will look at setting:\n",
    "* Title\n",
    "* Intervals (how to section our dates into date intervals)\n",
    "* Saving results\n",
    "* Showcasing how to draw an average line for each data column\n",
    "\n",
    "For more information on the the functions avaiable in matplotlib see:\n",
    "* https://matplotlib.org/\n",
    "\n",
    "To find out more on how to create different date intervals (years, dates, etc) see:\n",
    "* https://matplotlib.org/api/dates_api.html#matplotlib.dates.DateLocator\n",
    "\n",
    "### Note:\n",
    "All the functions will be using \"Date\" as the x-axis and a numerical count as the y-axis.\n",
    "\n",
    "It also automatically draws a line on the y-axis that shows the average for that column"
   ]
  },
  {
   "cell_type": "code",
   "execution_count": 63,
   "metadata": {
    "collapsed": true
   },
   "outputs": [],
   "source": [
    "\"\"\"\n",
    "Tokenize the text within the dataframe\n",
    "\n",
    ":column        = Columns to be used for the data\n",
    ":title         = The title of the graph\n",
    ":date          = The index with the dates (in y-m-d format)\n",
    ":dataframe     = The dataframe of the data\n",
    ":intervalValue = Set intervals for date, larger the number the bigger the interval between date stamp on graph\n",
    ":saveImage     = True to save image, false to skip\n",
    ":fileName      = Name of the save file\n",
    "\"\"\"\n",
    "def basic_plot_generator(column, title, date, dataframe, intervalValue = 1, saveImage=False, fileName = None):\n",
    "    # Plot how many tweets there are over the whole duration\n",
    "    fig,ax = plt.subplots()\n",
    "\n",
    "    # Set title for the graph\n",
    "    fig.suptitle(title, fontsize=\"x-large\")\n",
    "\n",
    "    # Create subplot of Tweet Count over time using a the default 1 month interval\n",
    "    ax.plot(pd.to_datetime(date), dataframe[column], label=column)\n",
    "\n",
    "    # Set the interval to be the default 1 month \n",
    "    ax.xaxis.set_major_locator(mdates.MonthLocator(interval=intervalValue))\n",
    "    \n",
    "    # Set the date format\n",
    "    ax.xaxis.set_major_formatter(mdates.DateFormatter('%Y-%m-%d'))\n",
    "    fig.autofmt_xdate()\n",
    "    \n",
    "    # Calculate the average\n",
    "    countMean = [dataframe[column].mean()]*len(pd.to_datetime(date))\n",
    "    mean_line = ax.plot(pd.to_datetime(date),countMean, label='Average Overall Count', linestyle='--')\n",
    "\n",
    "    # Create a legend for the subplot\n",
    "    legend = ax.legend(loc='upper center', shadow=True)\n",
    "    \n",
    "    # Saving the Plot as an Image\n",
    "    if saveImage:\n",
    "        fig.savefig(fileName)\n",
    "    \n",
    "    # Show Plot\n",
    "    plt.show()\n",
    "\n",
    "\"\"\"\n",
    "Plot different columns against eachother over time\n",
    "\n",
    ":column        = Columns to be used for the data\n",
    ":title    = Name of the column used\n",
    ":date          = The index with the dates (in y-m-d format)\n",
    ":dataframe     = The dataframe of the data\n",
    ":intervalValue = Set intervals for date, larger the number the bigger the interval between date stamp on graph\n",
    ":saveImage     = True to save image, false to skip\n",
    ":fileName      = Name of the save file\n",
    "\"\"\"\n",
    "def plot_compare_generator(column, title, date, dataframe, intervalValue = 1, saveImage=False, fileName = None):\n",
    "    \n",
    "    # Plot how many tweets there are over the whole duration\n",
    "    fig,ax = plt.subplots()\n",
    "    \n",
    "    # Set title for the graph\n",
    "    fig.suptitle(title, fontsize=\"x-large\")\n",
    "    \n",
    "    for element in column:\n",
    "        # Create subplot of Tweet Count over time using a 3 month interval\n",
    "        ax.plot(pd.to_datetime(date), dataframe[element], label=element)\n",
    "        \n",
    "    # Set the interval to be default 1 month \n",
    "    ax.xaxis.set_major_locator(mdates.MonthLocator(interval=intervalValue))\n",
    "    ax.xaxis.set_major_formatter(mdates.DateFormatter('%Y-%m-%d'))\n",
    "    fig.autofmt_xdate()\n",
    "    \n",
    "    # Create a legend for the subplot\n",
    "    legend = ax.legend(loc='upper center', shadow=True)\n",
    "    \n",
    "    # Saving the Plot as an Image\n",
    "    if saveImage:\n",
    "        fig.savefig(fileName)\n",
    "    \n",
    "    # Show Plot\n",
    "    plt.show()"
   ]
  },
  {
   "cell_type": "markdown",
   "metadata": {},
   "source": [
    "Now that we declared the two different functions we are going to test it out on our dummy data. Here I will demostrate 2 different things. The first is we can create a graph for every column in the dataframe. The second is that we can also manually decide what columns to use."
   ]
  },
  {
   "cell_type": "code",
   "execution_count": 64,
   "metadata": {},
   "outputs": [
    {
     "data": {
      "image/png": "[encoded data removed]",
      "text/plain": [
       "<matplotlib.figure.Figure at 0x7f3cb395cef0>"
      ]
     },
     "metadata": {},
     "output_type": "display_data"
    },
    {
     "data": {
      "image/png": "[encoded data removed]",
      "text/plain": [
       "<matplotlib.figure.Figure at 0x7f3cb3915b00>"
      ]
     },
     "metadata": {},
     "output_type": "display_data"
    }
   ],
   "source": [
    "# Iterate through all the columns\n",
    "for columns in DummyDataframe:\n",
    "    # This is an example of not choosing to save the image\n",
    "    basic_plot_generator(columns, \"Graphing Dummy Data\" ,DummyDataframe.index, DummyDataframe)"
   ]
  },
  {
   "cell_type": "code",
   "execution_count": 69,
   "metadata": {},
   "outputs": [
    {
     "data": {
      "image/png": "[encoded data removed]",
      "text/plain": [
       "<matplotlib.figure.Figure at 0x7f3cb3b27ef0>"
      ]
     },
     "metadata": {},
     "output_type": "display_data"
    }
   ],
   "source": [
    "# Choose 1 column and save that image\n",
    "basic_plot_generator(\"mention_count\", \"Saving an Image Graph\" ,DummyDataframe.index, DummyDataframe,saveImage=True, fileName=\"dummyGraph\")"
   ]
  },
  {
   "cell_type": "markdown",
   "metadata": {},
   "source": [
    "Now that we demostrated the basic graph we are going to demostrate the other function"
   ]
  },
  {
   "cell_type": "code",
   "execution_count": 72,
   "metadata": {},
   "outputs": [
    {
     "data": {
      "image/png": "[encoded data removed]",
      "text/plain": [
       "<matplotlib.figure.Figure at 0x7f3cb3b620b8>"
      ]
     },
     "metadata": {},
     "output_type": "display_data"
    }
   ],
   "source": [
    "# Ploting mention count and the hashtag count against eachother\n",
    "plot_compare_generator(['mention_count', 'hashtag_count'],\"Comparing the two counts\" ,DummyDataframe.index, DummyDataframe, intervalValue= 1, saveImage=True, fileName=\"compare\")"
   ]
  },
  {
   "cell_type": "markdown",
   "metadata": {},
   "source": [
    "## Conclusion\n",
    "\n",
    "In this notebook we looked at graphing with matplotlib. The library allowed us plot all the data we have in our dataframe. In addition the functions are written in such a way that they are modular, allowing them to be adapted to fit your needs.\n",
    "\n",
    "Although this notebook does not go into details on all the functionalities and graphs that exist within matplotlib, the documentation for matplotlib itself is extensive. Making matplotlib a good source for graphing tweet data."
   ]
  },
  {
   "cell_type": "code",
   "execution_count": null,
   "metadata": {
    "collapsed": true
   },
   "outputs": [],
   "source": []
  }
 ],
 "metadata": {
  "kernelspec": {
   "display_name": "Python 3",
   "language": "python",
   "name": "python3"
  },
  "language_info": {
   "codemirror_mode": {
    "name": "ipython",
    "version": 3
   },
   "file_extension": ".py",
   "mimetype": "text/x-python",
   "name": "python",
   "nbconvert_exporter": "python",
   "pygments_lexer": "ipython3",
   "version": "3.6.4"
  }
 },
 "nbformat": 4,
 "nbformat_minor": 2
}

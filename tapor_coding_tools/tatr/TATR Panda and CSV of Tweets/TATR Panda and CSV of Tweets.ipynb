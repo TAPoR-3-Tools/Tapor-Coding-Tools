{
 "cells": [
  {
   "cell_type": "markdown",
   "metadata": {},
   "source": [
    "# TATR: Panda and CSV of Tweets\n",
    "\n",
    "This notebook is part of a greater series of Juypter Notebook structured around Twitter Tweet analysis. This particular notebook will look at loading in a CSV (comma-separated values) file into a panda datastructure. Serving as one of the introductory coding notebook in the series, this notebook aims to teach and showcase how to load and save tweets into CSV files.\n",
    "\n",
    "Any additional assumptions and clarification will be discussed and declared throughout the notebook.\n",
    "\n",
    "Written 2018."
   ]
  },
  {
   "cell_type": "markdown",
   "metadata": {},
   "source": [
    "## Introduction: CSV\n",
    "\n",
    "CSV is short hand for comma-separated values. It is a common data structure that can be imported into software such as Mircosoft EXCEL. Although the name implies that each data entry is seperated with a comma that is not always the case. It is possible to sperate values by: comma, tabs, space, etc. Therefore it is important to be aware how your CSV or someone else's CSV is structured. \n",
    "\n",
    "Therefore the following are all valid forms for a CSV file:\n",
    "   * Jan-01-18, green, 10, good, comments\n",
    "   * Jan-01-18 green 10 good comments\n",
    "\n",
    "Typically in a CSV file each entry takes up 1 line. Therefore if you have 100 data entry there will be 100 lines in the file.\n",
    "\n",
    "To find out more about CSV:\n",
    "* https://en.wikipedia.org/wiki/Comma-separated_values"
   ]
  },
  {
   "cell_type": "markdown",
   "metadata": {},
   "source": [
    "## Import Libraries\n",
    "\n",
    "Now we will import all the Python 3 libraries that will be used in this notebook. You do not need to know all the functionalities of each libraries as some are massive. However any functionalities that is used will be explained as they appear, therefore do not worry too much if you do not recongize the libraries. \n",
    "\n",
    "To import or download the required libraries see the Juypter documentation or the libraries's home page for instruction. \n",
    "\n",
    "### Note: \n",
    "All libraries that are used are available for Anaconda "
   ]
  },
  {
   "cell_type": "code",
   "execution_count": 28,
   "metadata": {
    "collapsed": true
   },
   "outputs": [],
   "source": [
    "# Importing data structure libraries\n",
    "import pandas as pd\n",
    "import numpy as np"
   ]
  },
  {
   "cell_type": "markdown",
   "metadata": {},
   "source": [
    "## Introduction Panda Dataframe\n",
    "\n",
    "We will begin with an introduction to Panda dataframe. This is the primary data structure used in TATR notebook series for handing Twitter data. The reason for this is because Panda dataframe allows for a wide varity of functionality for data manipulation and has a large amount of documentation to support it. \n",
    "\n",
    "Therefore it is recommended that if there is any question or feature of Panda that you are unsure of or want to know more about see the following:\n",
    "* https://pandas.pydata.org/pandas-docs/stable/tutorials.html\n",
    "\n",
    "The panda data structures allows use to create a two dimensonal data structure. In addition, it allows us to create labels for each row and coloumn as well as load directly from CSV. Therefore to begin we are going to create some \"dummy twitter data\". This is to ensure that everyone looking at this notebook can reproduce the same results. Feel free to skip this part if you are already familiar with Panda or have data to used already.\n",
    "\n",
    "### Dummy Panda Dataframe Structure\n",
    "\n",
    "We are going to create 4 entries and each entry will have 3 values (Date, Retweet count, text).\n",
    "\n",
    "To do so we will used 2 different functions to help create the Date and Retweet count\n",
    "* pd.Timestamp(Some date format) : Which turns the input into a date \n",
    "* np.random.randint(range, how many) : Creates a random integer from 0 to range for the declared amount\n"
   ]
  },
  {
   "cell_type": "code",
   "execution_count": 29,
   "metadata": {},
   "outputs": [
    {
     "data": {
      "text/html": [
       "<div>\n",
       "<style>\n",
       "    .dataframe thead tr:only-child th {\n",
       "        text-align: right;\n",
       "    }\n",
       "\n",
       "    .dataframe thead th {\n",
       "        text-align: left;\n",
       "    }\n",
       "\n",
       "    .dataframe tbody tr th {\n",
       "        vertical-align: top;\n",
       "    }\n",
       "</style>\n",
       "<table border=\"1\" class=\"dataframe\">\n",
       "  <thead>\n",
       "    <tr style=\"text-align: right;\">\n",
       "      <th></th>\n",
       "      <th>Date</th>\n",
       "      <th>Retweet_Count</th>\n",
       "      <th>Text</th>\n",
       "    </tr>\n",
       "  </thead>\n",
       "  <tbody>\n",
       "    <tr>\n",
       "      <th>0</th>\n",
       "      <td>2018-01-01</td>\n",
       "      <td>0</td>\n",
       "      <td>Hey all!</td>\n",
       "    </tr>\n",
       "    <tr>\n",
       "      <th>1</th>\n",
       "      <td>2018-01-01</td>\n",
       "      <td>0</td>\n",
       "      <td>#Fake Data</td>\n",
       "    </tr>\n",
       "    <tr>\n",
       "      <th>2</th>\n",
       "      <td>2018-01-01</td>\n",
       "      <td>3</td>\n",
       "      <td>Not real</td>\n",
       "    </tr>\n",
       "    <tr>\n",
       "      <th>3</th>\n",
       "      <td>2018-01-01</td>\n",
       "      <td>4</td>\n",
       "      <td>text</td>\n",
       "    </tr>\n",
       "  </tbody>\n",
       "</table>\n",
       "</div>"
      ],
      "text/plain": [
       "        Date  Retweet_Count        Text\n",
       "0 2018-01-01              0    Hey all!\n",
       "1 2018-01-01              0  #Fake Data\n",
       "2 2018-01-01              3    Not real\n",
       "3 2018-01-01              4        text"
      ]
     },
     "execution_count": 29,
     "metadata": {},
     "output_type": "execute_result"
    }
   ],
   "source": [
    "# Creating the panda dataframe\n",
    "pandaDataFrame = pd.DataFrame({ 'Date' : pd.Timestamp('20180101'),\n",
    "                                'Retweet_Count' : np.random.randint(5, size=4),\n",
    "                                'Text' :[\"Hey all!\",\"#Fake Data\",\"Not real\",\"text\"]\n",
    "                              })\n",
    "\n",
    "# Lets see what the dataframe look like\n",
    "pandaDataFrame"
   ]
  },
  {
   "cell_type": "markdown",
   "metadata": {},
   "source": [
    "As you can see it created a panda data structure with 4 entries numbered from 0 to 3 (This is referred to the index). Each data value in each entry also belongs to a category (Date, Retweet_Count, Text which was declared when we created the dataframe). If you want to rearrange the order of the columns just swap their place when creating the dataframe above."
   ]
  },
  {
   "cell_type": "markdown",
   "metadata": {},
   "source": [
    "## Saving Panda Dataframe into a CSV\n",
    "\n",
    "Now that we have a dataframe of data to use, we will now save the results of the dataframe a CSV. We are going to create a function that reads our dataframe and converts it into a CSV. The reason for this is so you can copy and paste this function out of this notebook and use it in another project. \n",
    "\n",
    "### Note:\n",
    "We will not be saving the index of the panda dataframe. This is because for this example it has no value. However it is noted in the function how to save it."
   ]
  },
  {
   "cell_type": "code",
   "execution_count": 30,
   "metadata": {
    "collapsed": true
   },
   "outputs": [],
   "source": [
    "'''\n",
    "Save the dataframe into a file\n",
    "\n",
    ":dataframe: The dataframe that is being saved\n",
    ":name_of_file:    The name of the CSV file you wish to save it as\n",
    "'''\n",
    "def save_frame_to_CSV(dataframe, name_of_file):\n",
    "    \n",
    "    print(\"Begin saving dataframe into a csv...\\n\")\n",
    "    \n",
    "    # Attach the CSV file extendsion to the name\n",
    "    name = name_of_file + \".csv\"\n",
    "    \n",
    "    # Convert the dataframe into a CSV that is seperated by commas\n",
    "    # Remove \"index=False\" if you want to save the index\n",
    "    dataframe.to_csv(name, sep=',', encoding='utf-8', index=False)\n",
    "    \n",
    "    print(\"Finish and saved into \" + name + \"\\n\")"
   ]
  },
  {
   "cell_type": "markdown",
   "metadata": {},
   "source": [
    "Now that we have the function to save into a dataframe, we can begin saving the content of pandaDataFrame into a CSV. This is done by calling the function and filling in the parameters"
   ]
  },
  {
   "cell_type": "code",
   "execution_count": 31,
   "metadata": {},
   "outputs": [
    {
     "name": "stdout",
     "output_type": "stream",
     "text": [
      "Begin saving dataframe into a csv...\n",
      "\n",
      "Finish and saved into DummyTestCSV.csv\n",
      "\n"
     ]
    }
   ],
   "source": [
    "# Save the dataframe into a CSV\n",
    "save_frame_to_CSV(pandaDataFrame, \"DummyTestCSV\")"
   ]
  },
  {
   "cell_type": "markdown",
   "metadata": {},
   "source": [
    "## Looking at the CSV\n",
    "If you open up the CSV with any text editor, you will see this:\n",
    "    \n",
    "Date,Retweet_Count,Text  \n",
    "2018-01-01,1,Hey all!  \n",
    "2018-01-01,1,#Fake Data  \n",
    "2018-01-01,2,Not real  \n",
    "2018-01-01,2,text  \n",
    "\n",
    "As you see the category label of our panda dataframe was saved as the first row. The \",\" at the very start may seem out of place, but the space in front of that comma is used to label the index (first column of the CSV). "
   ]
  },
  {
   "cell_type": "markdown",
   "metadata": {},
   "source": [
    "## Loading the CSV \n",
    "Similar to before, we are going to create a new function that loads in the CSV and we do not account for the index being saved eariler.\n",
    "\n",
    "### Note:\n",
    "If you want to know more about how Panda handles CSV see the following:\n",
    "* https://chrisalbon.com/python/data_wrangling/pandas_dataframe_importing_csv/"
   ]
  },
  {
   "cell_type": "code",
   "execution_count": 32,
   "metadata": {
    "collapsed": true
   },
   "outputs": [],
   "source": [
    "'''\n",
    "Reads a CSV and turn it into a panda dataframe\n",
    "\n",
    ":csv_file_name: The CSV file name\n",
    "'''\n",
    "def read_CSV_file(csv_file_name):\n",
    "    \n",
    "    print(\"Reading csv \" + csv_file_name + \"...\\n\")\n",
    "    \n",
    "    # Attach the CSV file extension\n",
    "    name = csv_file_name + \".csv\"\n",
    "\n",
    "    return_frame = pd.read_csv(name)\n",
    "    \n",
    "    print(\"Finish reading \" + csv_file_name + \"\\n\")\n",
    "    return return_frame"
   ]
  },
  {
   "cell_type": "markdown",
   "metadata": {},
   "source": [
    "Now that we have created a function to load in a CSV, we can begin loading back the CSV"
   ]
  },
  {
   "cell_type": "code",
   "execution_count": 33,
   "metadata": {},
   "outputs": [
    {
     "name": "stdout",
     "output_type": "stream",
     "text": [
      "Reading csv DummyTestCSV...\n",
      "\n",
      "Finish reading DummyTestCSV\n",
      "\n"
     ]
    },
    {
     "data": {
      "text/html": [
       "<div>\n",
       "<style>\n",
       "    .dataframe thead tr:only-child th {\n",
       "        text-align: right;\n",
       "    }\n",
       "\n",
       "    .dataframe thead th {\n",
       "        text-align: left;\n",
       "    }\n",
       "\n",
       "    .dataframe tbody tr th {\n",
       "        vertical-align: top;\n",
       "    }\n",
       "</style>\n",
       "<table border=\"1\" class=\"dataframe\">\n",
       "  <thead>\n",
       "    <tr style=\"text-align: right;\">\n",
       "      <th></th>\n",
       "      <th>Date</th>\n",
       "      <th>Retweet_Count</th>\n",
       "      <th>Text</th>\n",
       "    </tr>\n",
       "  </thead>\n",
       "  <tbody>\n",
       "    <tr>\n",
       "      <th>0</th>\n",
       "      <td>2018-01-01</td>\n",
       "      <td>0</td>\n",
       "      <td>Hey all!</td>\n",
       "    </tr>\n",
       "    <tr>\n",
       "      <th>1</th>\n",
       "      <td>2018-01-01</td>\n",
       "      <td>0</td>\n",
       "      <td>#Fake Data</td>\n",
       "    </tr>\n",
       "    <tr>\n",
       "      <th>2</th>\n",
       "      <td>2018-01-01</td>\n",
       "      <td>3</td>\n",
       "      <td>Not real</td>\n",
       "    </tr>\n",
       "    <tr>\n",
       "      <th>3</th>\n",
       "      <td>2018-01-01</td>\n",
       "      <td>4</td>\n",
       "      <td>text</td>\n",
       "    </tr>\n",
       "  </tbody>\n",
       "</table>\n",
       "</div>"
      ],
      "text/plain": [
       "         Date  Retweet_Count        Text\n",
       "0  2018-01-01              0    Hey all!\n",
       "1  2018-01-01              0  #Fake Data\n",
       "2  2018-01-01              3    Not real\n",
       "3  2018-01-01              4        text"
      ]
     },
     "execution_count": 33,
     "metadata": {},
     "output_type": "execute_result"
    }
   ],
   "source": [
    "# Read in the CSV\n",
    "loadedDataframe = read_CSV_file(\"DummyTestCSV\")\n",
    "\n",
    "# See what the dataframe look like\n",
    "loadedDataframe"
   ]
  },
  {
   "cell_type": "markdown",
   "metadata": {},
   "source": [
    "As you can see it automatically created an index for you. Therefore for those who saved the index when creating the CSV there are additional steps that are required."
   ]
  },
  {
   "cell_type": "markdown",
   "metadata": {},
   "source": [
    "## Conculsion\n",
    "\n",
    "In this notebook we went over what CSV is. In addition to a brief overview on what Panda does, we looked at how it can be used to save data into a CSV format as well as load them from a file. Although this notebook contains no code or concepts that are exclusive to tweets or Twitter, it does go through essential features that will be used in other TATR notebook.\n",
    "\n",
    "Therefore this notebook serves as one of the more introductory notebook in the TATR notebook series."
   ]
  }
 ],
 "metadata": {
  "kernelspec": {
   "display_name": "Python 3",
   "language": "python",
   "name": "python3"
  },
  "language_info": {
   "codemirror_mode": {
    "name": "ipython",
    "version": 3
   },
   "file_extension": ".py",
   "mimetype": "text/x-python",
   "name": "python",
   "nbconvert_exporter": "python",
   "pygments_lexer": "ipython3",
   "version": "3.6.4"
  }
 },
 "nbformat": 4,
 "nbformat_minor": 2
}
